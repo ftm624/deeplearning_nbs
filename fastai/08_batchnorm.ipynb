{
 "cells": [
  {
   "cell_type": "code",
   "execution_count": 1,
   "metadata": {},
   "outputs": [],
   "source": [
    "%reload_ext autoreload\n",
    "%autoreload 2\n",
    "%matplotlib inline"
   ]
  },
  {
   "cell_type": "code",
   "execution_count": 2,
   "metadata": {},
   "outputs": [],
   "source": [
    "#export\n",
    "from exp.nb_07 import *"
   ]
  },
  {
   "cell_type": "markdown",
   "metadata": {},
   "source": [
    "# BatchNorm\n",
    "> Layer Normalization \n",
    "\n",
    "With basic parameter initialization we can only get so far. The next step would be normalize our activations inside the model. \n",
    "\n",
    "This is idea behind BatchNorm and its many variants."
   ]
  },
  {
   "cell_type": "markdown",
   "metadata": {},
   "source": [
    "## Data, Model, and Runner"
   ]
  },
  {
   "cell_type": "markdown",
   "metadata": {},
   "source": [
    "We'll start how we normally do: get the mnist data, put together our callbacks, runner and learner and then train."
   ]
  },
  {
   "cell_type": "code",
   "execution_count": 3,
   "metadata": {},
   "outputs": [],
   "source": [
    "x_train, y_train, x_valid, y_valid = get_data()\n",
    "\n",
    "train_ds, valid_ds = Dataset(x_train, y_train), Dataset(x_valid, y_valid)\n",
    "\n",
    "nh,bs = 50,512\n",
    "c = y_train.max().item()+1\n",
    "loss_func = F.cross_entropy\n",
    "\n",
    "data = DataBunch(*get_dls(train_ds, valid_ds, bs), c)"
   ]
  },
  {
   "cell_type": "code",
   "execution_count": 4,
   "metadata": {},
   "outputs": [],
   "source": [
    "mnist_view = view_tfm(1,28,28)\n",
    "callbacks = [\n",
    "    Recorder,\n",
    "    partial(AvgStatsCallback, accuracy),\n",
    "    partial(BatchTransformXCallback, mnist_view),\n",
    "    CudaCallback\n",
    "]"
   ]
  },
  {
   "cell_type": "code",
   "execution_count": 5,
   "metadata": {},
   "outputs": [
    {
     "name": "stdout",
     "output_type": "stream",
     "text": [
      "Layer Initialized torch.Size([8, 1, 5, 5])\n",
      "Layer Initialized torch.Size([16, 8, 3, 3])\n",
      "Layer Initialized torch.Size([32, 16, 3, 3])\n",
      "Layer Initialized torch.Size([64, 32, 3, 3])\n",
      "Layer Initialized torch.Size([64, 64, 3, 3])\n"
     ]
    }
   ],
   "source": [
    "nfs = [8,16,32,64,64]\n",
    "\n",
    "learn, run = get_learn_run(data, nfs, conv_layer, lr=0.4, cbs=callbacks)"
   ]
  },
  {
   "cell_type": "code",
   "execution_count": 6,
   "metadata": {},
   "outputs": [
    {
     "name": "stdout",
     "output_type": "stream",
     "text": [
      "train: [1.4436640625, tensor(0.5237, device='cuda:0')]\n",
      "valid: [0.3139478759765625, tensor(0.8942, device='cuda:0')]\n",
      "train: [0.22821251953125, tensor(0.9300, device='cuda:0')]\n",
      "valid: [0.3756976318359375, tensor(0.8935, device='cuda:0')]\n",
      "train: [0.12748861328125, tensor(0.9607, device='cuda:0')]\n",
      "valid: [0.1394625244140625, tensor(0.9558, device='cuda:0')]\n",
      "Wall time: 6.05 s\n"
     ]
    }
   ],
   "source": [
    "%time run.fit(3, learn)"
   ]
  },
  {
   "cell_type": "markdown",
   "metadata": {},
   "source": [
    "## Norms"
   ]
  },
  {
   "cell_type": "markdown",
   "metadata": {},
   "source": [
    "### Custom BatchNorm Module\n",
    "\n",
    "We'll start by implementing BatchNorm from stratch based on the paper \"Batch Normalization: Accelerating Deep Network Training by Reducing Internal Covariate Shift\" by Sergey Ioffe and Christian Szegedy\n",
    "\n",
    "BatchNorm comes down to essentially 4 steps:\n",
    "\n",
    "1. Find the mean of the mini-batch.\n",
    "$$ \\mu_{\\beta} \\leftarrow \\frac{1}{m} \\sum_{i=1}^m x_i$$\n",
    "\n",
    "2. Find the variance of the mini-batch:\n",
    "$$\\sigma^2_{\\beta} \\leftarrow \\frac{1}{m} \\sum_{i=1}^m (x_i - \\mu_{\\beta})^2$$\n",
    "\n",
    "\n",
    "3. Normalize the mini-batch by subtracting the mean and dividing by the squareroot of the variance plus a small value epsilon :\n",
    "$$ \\hat{x}_i \\leftarrow \\frac{x_i - \\mu_{\\beta}}{\\sqrt{\\sigma_{\\beta}^2 + \\epsilon} }$$\n",
    "\n",
    "4. Scale and shift:\n",
    "$$y_i \\leftarrow \\gamma \\hat{x}_i + \\beta \\equiv BN_{\\gamma, \\beta}(x_i)$$\n",
    "\n",
    "This is BatchNorm.\n",
    "\n",
    "We'll implement this in a similar way as we created the `Generalized ReLU` - as a `nn.Module` which can easily be placed into our `get_conv_layers` function as any other module we're using (linear, Conv2d, etc)"
   ]
  },
  {
   "cell_type": "code",
   "execution_count": 7,
   "metadata": {},
   "outputs": [],
   "source": [
    "class BatchNorm(nn.Module):\n",
    "    \n",
    "    def __init__(self, nf, mom=0.1, eps= 1e-5):\n",
    "        super().__init__()\n",
    "        self.mom, self.eps = mom, eps\n",
    "        \n",
    "        # learnable parameters gamma and beta from the equation above\n",
    "        self.mults = nn.Parameter(torch.ones(nf, 1,1)) \n",
    "        self.adds = nn.Parameter(torch.zeros(nf, 1,1)) \n",
    "    \n",
    "        # buffers that will be serialized and sent to the GPU but not optimized \n",
    "        self.register_buffer('vars', torch.ones(1,nf,1,1))\n",
    "        self.register_buffer('means', torch.zeros(1,nf,1,1))\n",
    "        \n",
    "    def update_stats(self, x):\n",
    "        # mini-batch stats\n",
    "        m = x.mean((0,2,3), keepdim=True) # leaves a mean for each channel\n",
    "        v = x.var((0,2,3), keepdim=True)\n",
    "        \n",
    "        # linear interpolation\n",
    "        self.means.lerp_(m, self.mom)\n",
    "        self.vars.lerp_(v, self.mom)\n",
    "        return m,v\n",
    "         \n",
    "    def forward(self, x):\n",
    "        \n",
    "        if self.training: \n",
    "            with torch.no_grad(): m,v = self.update_stats(x) # if train mode get stats of batch\n",
    "        else:\n",
    "            m,v = self.means, self.vars # if inference use saved means and vars\n",
    "        \n",
    "        # normalize the batch    \n",
    "        x = (x-m) / (v+self.eps).sqrt()\n",
    "        \n",
    "        # scale and shift by learnable parameters\n",
    "        return x*self.mults + self.adds"
   ]
  },
  {
   "cell_type": "markdown",
   "metadata": {},
   "source": [
    "#### `register_buffer`"
   ]
  },
  {
   "cell_type": "markdown",
   "metadata": {},
   "source": [
    "We use the Pytorch `register_buffer` method for the `mults` and `adds` attributes. It adds some functionality that will helpful later:\n",
    "    \n",
    "    1. Moves to GPU \n",
    "    2. When the model is saved/serialized later, it saves any tensors registered as buffers.\n",
    "    3. Buffers are not trained by the optimizer - they won’t be returned in model.parameters(), so that the optimizer won’t have a chance to update them.\n",
    "    \n",
    "\n",
    "If you have parameters in your model, which should be saved and restored in the `state_dict`, but not trained by the optimizer, you should register them as buffers."
   ]
  },
  {
   "cell_type": "code",
   "execution_count": 8,
   "metadata": {},
   "outputs": [],
   "source": [
    "class MyModel(nn.Module):\n",
    "    def __init__(self):\n",
    "        super(MyModel, self).__init__()\n",
    "        self.my_tensor = torch.randn(1)\n",
    "        self.register_buffer('my_buffer', torch.randn(1))\n",
    "        self.my_param = nn.Parameter(torch.randn(1))\n",
    "        \n",
    "    def forward(self, x):\n",
    "            return x"
   ]
  },
  {
   "cell_type": "markdown",
   "metadata": {},
   "source": [
    "In this case `my_tensor` is not saved as a `parameter` or `buffer` - its simply a class attribute."
   ]
  },
  {
   "cell_type": "code",
   "execution_count": 9,
   "metadata": {},
   "outputs": [
    {
     "name": "stdout",
     "output_type": "stream",
     "text": [
      "tensor([-1.2354])\n"
     ]
    }
   ],
   "source": [
    "mm = MyModel()\n",
    "print(mm.my_tensor)"
   ]
  },
  {
   "cell_type": "markdown",
   "metadata": {},
   "source": [
    "There is only one parameter in the model:"
   ]
  },
  {
   "cell_type": "code",
   "execution_count": 10,
   "metadata": {},
   "outputs": [
    {
     "name": "stdout",
     "output_type": "stream",
     "text": [
      "Parameter containing:\n",
      "tensor([-2.6761], requires_grad=True)\n"
     ]
    }
   ],
   "source": [
    "for l in mm.parameters(): print(l)"
   ]
  },
  {
   "cell_type": "markdown",
   "metadata": {},
   "source": [
    "And the `state_dict` contains `my_param` and `my_buffer`"
   ]
  },
  {
   "cell_type": "code",
   "execution_count": 11,
   "metadata": {},
   "outputs": [
    {
     "name": "stdout",
     "output_type": "stream",
     "text": [
      "OrderedDict([('my_param', tensor([-2.6761])), ('my_buffer', tensor([-1.1743]))])\n"
     ]
    }
   ],
   "source": [
    "print(mm.state_dict())"
   ]
  },
  {
   "cell_type": "markdown",
   "metadata": {},
   "source": [
    "Now if we push everything onto the GPU we can see that the parameters and buffers get pushed onto the GPU but the `my_tensor` remains on the CPU:"
   ]
  },
  {
   "cell_type": "code",
   "execution_count": 12,
   "metadata": {},
   "outputs": [
    {
     "name": "stdout",
     "output_type": "stream",
     "text": [
      "tensor([-1.2354])\n"
     ]
    }
   ],
   "source": [
    "mm.cuda()\n",
    "print(mm.my_tensor)"
   ]
  },
  {
   "cell_type": "code",
   "execution_count": 13,
   "metadata": {},
   "outputs": [
    {
     "name": "stdout",
     "output_type": "stream",
     "text": [
      "OrderedDict([('my_param', tensor([-2.6761], device='cuda:0')), ('my_buffer', tensor([-1.1743], device='cuda:0'))])\n"
     ]
    }
   ],
   "source": [
    "print(mm.state_dict())"
   ]
  },
  {
   "cell_type": "markdown",
   "metadata": {},
   "source": [
    "#### Mean of mini-batch"
   ]
  },
  {
   "cell_type": "markdown",
   "metadata": {},
   "source": [
    "It's helpful for BatchNorm and the other types of Norm to keep in mind how average over a dimension:"
   ]
  },
  {
   "cell_type": "code",
   "execution_count": 14,
   "metadata": {},
   "outputs": [
    {
     "data": {
      "text/plain": [
       "tensor([[1., 2., 3., 4.],\n",
       "        [1., 2., 3., 4.],\n",
       "        [1., 2., 3., 4.]])"
      ]
     },
     "execution_count": 14,
     "metadata": {},
     "output_type": "execute_result"
    }
   ],
   "source": [
    "a = torch.arange(1.,5.)\n",
    "b = a.expand(3, 4); b"
   ]
  },
  {
   "cell_type": "code",
   "execution_count": 15,
   "metadata": {},
   "outputs": [
    {
     "data": {
      "text/plain": [
       "torch.Size([3, 4])"
      ]
     },
     "execution_count": 15,
     "metadata": {},
     "output_type": "execute_result"
    }
   ],
   "source": [
    "b.shape"
   ]
  },
  {
   "cell_type": "markdown",
   "metadata": {},
   "source": [
    "The Pytorch `mean` function reduces over whichever dimension you give it.\n",
    "\n",
    "Here we average over the rows (dim=0) and with `keepdim=True` we get a tensor of `[1,4]` with the average of every element in each row:"
   ]
  },
  {
   "cell_type": "code",
   "execution_count": 16,
   "metadata": {},
   "outputs": [
    {
     "data": {
      "text/plain": [
       "(tensor([[1., 2., 3., 4.]]), torch.Size([1, 4]))"
      ]
     },
     "execution_count": 16,
     "metadata": {},
     "output_type": "execute_result"
    }
   ],
   "source": [
    "bm = b.mean(0, keepdim=True); bm, bm.shape"
   ]
  },
  {
   "cell_type": "markdown",
   "metadata": {},
   "source": [
    "Doing the same thing for the columns (dim=1) we get:"
   ]
  },
  {
   "cell_type": "code",
   "execution_count": 17,
   "metadata": {},
   "outputs": [
    {
     "data": {
      "text/plain": [
       "(tensor([[2.5000],\n",
       "         [2.5000],\n",
       "         [2.5000]]),\n",
       " torch.Size([3, 1]))"
      ]
     },
     "execution_count": 17,
     "metadata": {},
     "output_type": "execute_result"
    }
   ],
   "source": [
    "bm = b.mean(1, keepdim=True); bm, bm.shape"
   ]
  },
  {
   "cell_type": "markdown",
   "metadata": {},
   "source": [
    "Let's try this with a mini-batch of data. \n",
    "\n",
    "A mini-batch starts as a rank 3 tensor. But `conv2d` function expects `[batch_size, channels, height, width]` so let's reshape it:"
   ]
  },
  {
   "cell_type": "code",
   "execution_count": 18,
   "metadata": {},
   "outputs": [
    {
     "data": {
      "text/plain": [
       "torch.Size([512, 1, 28, 28])"
      ]
     },
     "execution_count": 18,
     "metadata": {},
     "output_type": "execute_result"
    }
   ],
   "source": [
    "xb, yb = next(iter(data.train_dl))\n",
    "xb = xb.view(512,1,28,-1); xb.shape"
   ]
  },
  {
   "cell_type": "code",
   "execution_count": 19,
   "metadata": {},
   "outputs": [],
   "source": [
    "num_filters = 8\n",
    "channels = 1\n",
    "momentum = .1"
   ]
  },
  {
   "cell_type": "markdown",
   "metadata": {},
   "source": [
    "The shape of our filter should be ` [number_of_filters, input_channels, height, width]`"
   ]
  },
  {
   "cell_type": "code",
   "execution_count": 20,
   "metadata": {},
   "outputs": [],
   "source": [
    "fil = torch.randn((num_filters,channels,5,5))"
   ]
  },
  {
   "cell_type": "code",
   "execution_count": 21,
   "metadata": {},
   "outputs": [
    {
     "data": {
      "text/plain": [
       "torch.Size([512, 8, 12, 12])"
      ]
     },
     "execution_count": 21,
     "metadata": {},
     "output_type": "execute_result"
    }
   ],
   "source": [
    "out = F.relu(F.conv2d(xb, fil, stride=2)); out.shape"
   ]
  },
  {
   "cell_type": "markdown",
   "metadata": {},
   "source": [
    "Let's average over the `0,2,3` dimensions of the output tensor. \n",
    "\n",
    "This means we will average over the mini-batch, height and width. Leaving us with a mean for each filter:"
   ]
  },
  {
   "cell_type": "code",
   "execution_count": 22,
   "metadata": {},
   "outputs": [
    {
     "data": {
      "text/plain": [
       "torch.Size([1, 8, 1, 1])"
      ]
     },
     "execution_count": 22,
     "metadata": {},
     "output_type": "execute_result"
    }
   ],
   "source": [
    "m = out.mean((0,2,3), keepdim=True); m.shape"
   ]
  },
  {
   "cell_type": "markdown",
   "metadata": {},
   "source": [
    "Here we average over the 0 dim or rows - this results in a mean for every row - basically every image:"
   ]
  },
  {
   "cell_type": "code",
   "execution_count": 23,
   "metadata": {},
   "outputs": [
    {
     "data": {
      "text/plain": [
       "torch.Size([512, 1, 1, 1])"
      ]
     },
     "execution_count": 23,
     "metadata": {},
     "output_type": "execute_result"
    }
   ],
   "source": [
    "out.mean((1,2,3), keepdim=True).shape"
   ]
  },
  {
   "cell_type": "markdown",
   "metadata": {},
   "source": [
    "And here the height and width:"
   ]
  },
  {
   "cell_type": "code",
   "execution_count": 24,
   "metadata": {},
   "outputs": [
    {
     "data": {
      "text/plain": [
       "torch.Size([512, 8, 1, 1])"
      ]
     },
     "execution_count": 24,
     "metadata": {},
     "output_type": "execute_result"
    }
   ],
   "source": [
    "out.mean((2,3), keepdim=True).shape"
   ]
  },
  {
   "cell_type": "code",
   "execution_count": 25,
   "metadata": {},
   "outputs": [
    {
     "data": {
      "text/plain": [
       "torch.Size([1, 1, 12, 1])"
      ]
     },
     "execution_count": 25,
     "metadata": {},
     "output_type": "execute_result"
    }
   ],
   "source": [
    "out.mean((0,1,3), keepdim=True).shape"
   ]
  },
  {
   "cell_type": "code",
   "execution_count": null,
   "metadata": {},
   "outputs": [],
   "source": []
  },
  {
   "cell_type": "markdown",
   "metadata": {},
   "source": [
    "#### `lerp`"
   ]
  },
  {
   "cell_type": "markdown",
   "metadata": {},
   "source": [
    "Pytorch `torch.lerp` finds the exponentially weighted averaged in kind of a weird way.\n",
    "\n",
    "    Does a linear interpolation of two tensors `start` (given by input) and `end` based on a scalar or tensor weight and returns the resulting out tensor.\n",
    "\n",
    "$$ \\text{out}_i = \\text{start}_i + \\text{weight}_i \\times (\\text{end}_i - \\text{start}_i) $$"
   ]
  },
  {
   "cell_type": "code",
   "execution_count": 26,
   "metadata": {},
   "outputs": [],
   "source": [
    "start_mean = torch.zeros(1,num_filters,1,1)"
   ]
  },
  {
   "cell_type": "code",
   "execution_count": 27,
   "metadata": {},
   "outputs": [
    {
     "data": {
      "text/plain": [
       "tensor([[[[0.0099]],\n",
       "\n",
       "         [[0.0744]],\n",
       "\n",
       "         [[0.0836]],\n",
       "\n",
       "         [[0.0777]],\n",
       "\n",
       "         [[0.0024]],\n",
       "\n",
       "         [[0.0017]],\n",
       "\n",
       "         [[0.1276]],\n",
       "\n",
       "         [[0.1191]]]])"
      ]
     },
     "execution_count": 27,
     "metadata": {},
     "output_type": "execute_result"
    }
   ],
   "source": [
    "start_mean.lerp(m, momentum)"
   ]
  },
  {
   "cell_type": "markdown",
   "metadata": {},
   "source": [
    "The normal equation for the exponentially weighted moving average is this:\n",
    "\n",
    "$$ S_t = \\alpha \\cdot S_{t-1} + (1-\\alpha) \\cdot x $$\n",
    "\n",
    "Which gives us the same result:"
   ]
  },
  {
   "cell_type": "code",
   "execution_count": 28,
   "metadata": {},
   "outputs": [
    {
     "data": {
      "text/plain": [
       "tensor([[[[True]],\n",
       "\n",
       "         [[True]],\n",
       "\n",
       "         [[True]],\n",
       "\n",
       "         [[True]],\n",
       "\n",
       "         [[True]],\n",
       "\n",
       "         [[True]],\n",
       "\n",
       "         [[True]],\n",
       "\n",
       "         [[True]]]])"
      ]
     },
     "execution_count": 28,
     "metadata": {},
     "output_type": "execute_result"
    }
   ],
   "source": [
    ".9*start_mean + (1.-.9)*m == start_mean.lerp(m, momentum)"
   ]
  },
  {
   "cell_type": "markdown",
   "metadata": {},
   "source": [
    "### Applying Custom BatchNorm"
   ]
  },
  {
   "cell_type": "markdown",
   "metadata": {},
   "source": [
    "Now we'll need to tweak our `conv_layer` function to add a `BatchNorm` to each conv layer:"
   ]
  },
  {
   "cell_type": "code",
   "execution_count": 29,
   "metadata": {},
   "outputs": [],
   "source": [
    "def conv_layer(ni, nf, ks=3, stride=2, bn=True, **kwargs):\n",
    "    # no bias if using bn\n",
    "    layers = [nn.Conv2d(ni, nf, kernel_size=ks, padding=ks//2, stride=stride, bias=not bn), GeneralRelu(**kwargs)]\n",
    "    if bn: layers.append(BatchNorm(nf, **kwargs))\n",
    "    return nn.Sequential(*layers)"
   ]
  },
  {
   "cell_type": "markdown",
   "metadata": {},
   "source": [
    "Let's also refactor our `init_cnn` using the factory method and make a recursive `init_cnn_` that traverses the model's modules:"
   ]
  },
  {
   "cell_type": "code",
   "execution_count": 30,
   "metadata": {},
   "outputs": [],
   "source": [
    "#export\n",
    "def init_cnn_(m, func):\n",
    "    if isinstance(m, nn.Conv2d):\n",
    "        func(m.weight, a=0.1)\n",
    "        if getattr(m, 'bias', None) is not None: m.bias.data.zero_()\n",
    "    for l in m.children(): init_cnn_(l, func)\n",
    "\n",
    "def init_cnn(model, uniform=False):\n",
    "    initzer = init.kaiming_normal_ if not uniform else init.kaiming_uniform_\n",
    "    init_cnn_(model, initzer)"
   ]
  },
  {
   "cell_type": "markdown",
   "metadata": {},
   "source": [
    "Reload `get_learn_run` with new functions:"
   ]
  },
  {
   "cell_type": "code",
   "execution_count": 31,
   "metadata": {},
   "outputs": [],
   "source": [
    "#export\n",
    "def get_learn_run(data, nfs, layer, lr, cbs=None, opt_func=None, uniform=False, **kwargs):\n",
    "    model = get_cnn_model(data, nfs, layer, **kwargs)\n",
    "    init_cnn(model, uniform=uniform)\n",
    "    return get_runner(model, data, lr=lr, cbs=cbs, opt_func=opt_func)"
   ]
  },
  {
   "cell_type": "code",
   "execution_count": 32,
   "metadata": {},
   "outputs": [
    {
     "name": "stdout",
     "output_type": "stream",
     "text": [
      "train: [0.36423140625, tensor(0.8943, device='cuda:0')]\n",
      "valid: [0.1718577392578125, tensor(0.9469, device='cuda:0')]\n"
     ]
    },
    {
     "data": {
      "image/png": "[encoded data removed]",
      "text/plain": [
       "<Figure size 720x288 with 2 Axes>"
      ]
     },
     "metadata": {
      "needs_background": "light"
     },
     "output_type": "display_data"
    },
    {
     "data": {
      "image/png": "[encoded data removed]",
      "text/plain": [
       "<Figure size 720x288 with 2 Axes>"
      ]
     },
     "metadata": {
      "needs_background": "light"
     },
     "output_type": "display_data"
    }
   ],
   "source": [
    "learn, run = get_learn_run(data, nfs, conv_layer, 0.4, cbs=callbacks)\n",
    "\n",
    "with Hooks(learn.model, append_stats) as hooks:\n",
    "    run.fit(1, learn)\n",
    "    fig, (ax0, ax1) = plt.subplots(1,2, figsize=(10,4))\n",
    "    for h in hooks[:-1]:\n",
    "        ms, ss = h.stats[0], h.stats[1]\n",
    "        ax0.plot(ms[:10])\n",
    "        ax1.plot(ss[:10])\n",
    "    plt.legend(range(6))\n",
    "    \n",
    "    fig, (ax0, ax1) = plt.subplots(1,2, figsize=(10,4))\n",
    "    for h in hooks[:-1]:\n",
    "        ms, ss = h.stats[0], h.stats[1]\n",
    "        ax0.plot(ms)\n",
    "        ax1.plot(ss)\n",
    "    plt.legend(range(6))\n",
    "    "
   ]
  },
  {
   "cell_type": "markdown",
   "metadata": {},
   "source": [
    "With a learning rate of `0.4` we get to `89%` validation accuracy after 1 epoch.\n",
    "\n",
    "Let's turn up the learning rate and see how our means and stds hold up."
   ]
  },
  {
   "cell_type": "code",
   "execution_count": 33,
   "metadata": {},
   "outputs": [
    {
     "name": "stdout",
     "output_type": "stream",
     "text": [
      "train: [0.26825953125, tensor(0.9156, device='cuda:0')]\n",
      "valid: [0.1913160888671875, tensor(0.9414, device='cuda:0')]\n"
     ]
    },
    {
     "data": {
      "image/png": "[encoded data removed]",
      "text/plain": [
       "<Figure size 720x288 with 2 Axes>"
      ]
     },
     "metadata": {
      "needs_background": "light"
     },
     "output_type": "display_data"
    },
    {
     "data": {
      "image/png": "[encoded data removed]",
      "text/plain": [
       "<Figure size 720x288 with 2 Axes>"
      ]
     },
     "metadata": {
      "needs_background": "light"
     },
     "output_type": "display_data"
    }
   ],
   "source": [
    "learn, run = get_learn_run(data, nfs, conv_layer, 0.9, cbs=callbacks)\n",
    "\n",
    "with Hooks(learn.model, append_stats) as hooks:\n",
    "    run.fit(1, learn)\n",
    "    fig, (ax0, ax1) = plt.subplots(1,2, figsize=(10,4))\n",
    "    for h in hooks[:-1]:\n",
    "        ms, ss = h.stats[0], h.stats[1]\n",
    "        ax0.plot(ms[:10])\n",
    "        ax1.plot(ss[:10])\n",
    "    plt.legend(range(6))\n",
    "    \n",
    "    fig, (ax0, ax1) = plt.subplots(1,2, figsize=(10,4))\n",
    "    for h in hooks[:-1]:\n",
    "        ms, ss = h.stats[0], h.stats[1]\n",
    "        ax0.plot(ms)\n",
    "        ax1.plot(ss)\n",
    "    plt.legend(range(6))\n",
    "    "
   ]
  },
  {
   "cell_type": "markdown",
   "metadata": {},
   "source": [
    " Accuracy improved.\n",
    " \n",
    " But what is happening in the last iterations? The means and stds start jumping around. Those are the validations batches..."
   ]
  },
  {
   "cell_type": "code",
   "execution_count": 34,
   "metadata": {},
   "outputs": [],
   "source": [
    "learn, run = get_learn_run(data, nfs, conv_layer, 1.0, cbs=callbacks)"
   ]
  },
  {
   "cell_type": "code",
   "execution_count": 35,
   "metadata": {},
   "outputs": [
    {
     "name": "stdout",
     "output_type": "stream",
     "text": [
      "train: [0.24370298828125, tensor(0.9241, device='cuda:0')]\n",
      "valid: [0.13462109375, tensor(0.9589, device='cuda:0')]\n",
      "train: [0.0794951416015625, tensor(0.9754, device='cuda:0')]\n",
      "valid: [0.2126443603515625, tensor(0.9356, device='cuda:0')]\n",
      "train: [0.0590952734375, tensor(0.9818, device='cuda:0')]\n",
      "valid: [0.49616767578125, tensor(0.8379, device='cuda:0')]\n",
      "train: [0.04764673828125, tensor(0.9851, device='cuda:0')]\n",
      "valid: [0.10040128173828125, tensor(0.9700, device='cuda:0')]\n"
     ]
    }
   ],
   "source": [
    "run.fit(4, learn)"
   ]
  },
  {
   "cell_type": "markdown",
   "metadata": {},
   "source": [
    "### Pytorch BatchNorm Module"
   ]
  },
  {
   "cell_type": "markdown",
   "metadata": {},
   "source": [
    "And now for the Pytorch `nn.BatchNorm2d` module:"
   ]
  },
  {
   "cell_type": "code",
   "execution_count": 36,
   "metadata": {},
   "outputs": [],
   "source": [
    "#export\n",
    "def conv_layer(ni, nf, ks=3, stride=2, bn=True, **kwargs):\n",
    "    # no bias if using bn\n",
    "    layers = [nn.Conv2d(ni, nf, kernel_size=ks, padding=ks//2, stride=stride, bias=not bn), GeneralRelu(**kwargs)]\n",
    "    if bn: layers.append(nn.BatchNorm2d(nf, eps=1e-05, momentum=0.1))\n",
    "    return nn.Sequential(*layers)"
   ]
  },
  {
   "cell_type": "code",
   "execution_count": 37,
   "metadata": {},
   "outputs": [],
   "source": [
    "learn, run = get_learn_run(data, nfs, conv_layer, 0.7, cbs=callbacks)"
   ]
  },
  {
   "cell_type": "code",
   "execution_count": 38,
   "metadata": {},
   "outputs": [
    {
     "name": "stdout",
     "output_type": "stream",
     "text": [
      "train: [0.24448779296875, tensor(0.9255, device='cuda:0')]\n",
      "valid: [0.1026760498046875, tensor(0.9676, device='cuda:0')]\n",
      "train: [0.0691066650390625, tensor(0.9797, device='cuda:0')]\n",
      "valid: [0.06471670532226563, tensor(0.9808, device='cuda:0')]\n",
      "train: [0.0448808837890625, tensor(0.9864, device='cuda:0')]\n",
      "valid: [0.05888819580078125, tensor(0.9818, device='cuda:0')]\n",
      "train: [0.03253665283203125, tensor(0.9898, device='cuda:0')]\n",
      "valid: [0.0585130615234375, tensor(0.9839, device='cuda:0')]\n",
      "Wall time: 5.37 s\n"
     ]
    }
   ],
   "source": [
    "%time run.fit(4, learn)"
   ]
  },
  {
   "cell_type": "markdown",
   "metadata": {},
   "source": [
    "To improve this even more let's add our param scheduler callback:"
   ]
  },
  {
   "cell_type": "code",
   "execution_count": 39,
   "metadata": {},
   "outputs": [],
   "source": [
    "sched = combine_scheds([0.3, 0.7], [sched_lin(0.6, 2.), sched_lin(2., 0.1)])"
   ]
  },
  {
   "cell_type": "code",
   "execution_count": 40,
   "metadata": {},
   "outputs": [],
   "source": [
    "learn, run = get_learn_run(data, nfs, conv_layer, 0.7, cbs=callbacks+[partial(ParamScheduler, 'lr', sched)])"
   ]
  },
  {
   "cell_type": "code",
   "execution_count": 41,
   "metadata": {},
   "outputs": [
    {
     "name": "stdout",
     "output_type": "stream",
     "text": [
      "train: [0.26448447265625, tensor(0.9193, device='cuda:0')]\n",
      "valid: [0.12890528564453124, tensor(0.9604, device='cuda:0')]\n",
      "train: [0.07978875, tensor(0.9756, device='cuda:0')]\n",
      "valid: [0.09081660766601563, tensor(0.9748, device='cuda:0')]\n",
      "train: [0.059111103515625, tensor(0.9818, device='cuda:0')]\n",
      "valid: [0.07796253051757812, tensor(0.9764, device='cuda:0')]\n",
      "train: [0.03394944580078125, tensor(0.9890, device='cuda:0')]\n",
      "valid: [0.0592250732421875, tensor(0.9830, device='cuda:0')]\n",
      "train: [0.019360958251953126, tensor(0.9939, device='cuda:0')]\n",
      "valid: [0.05042833557128906, tensor(0.9850, device='cuda:0')]\n",
      "train: [0.01070795654296875, tensor(0.9974, device='cuda:0')]\n",
      "valid: [0.046993450927734375, tensor(0.9864, device='cuda:0')]\n",
      "train: [0.005766049194335938, tensor(0.9989, device='cuda:0')]\n",
      "valid: [0.04836365356445312, tensor(0.9857, device='cuda:0')]\n",
      "train: [0.0038416171264648437, tensor(0.9996, device='cuda:0')]\n",
      "valid: [0.046897659301757814, tensor(0.9868, device='cuda:0')]\n"
     ]
    }
   ],
   "source": [
    "run.fit(8, learn)"
   ]
  },
  {
   "cell_type": "markdown",
   "metadata": {},
   "source": [
    "We're at 98.7% accuracy for our validation set - that means we're wrong on about 650 out of the 50,000 digits we see. "
   ]
  },
  {
   "cell_type": "code",
   "execution_count": 42,
   "metadata": {},
   "outputs": [
    {
     "data": {
      "text/plain": [
       "0.987"
      ]
     },
     "execution_count": 42,
     "metadata": {},
     "output_type": "execute_result"
    }
   ],
   "source": [
    "49350 / len(data.valid_ds) "
   ]
  },
  {
   "cell_type": "markdown",
   "metadata": {},
   "source": [
    "### Layer Norm"
   ]
  },
  {
   "cell_type": "markdown",
   "metadata": {},
   "source": [
    "From [the paper](https://arxiv.org/abs/1607.06450): \"*batch normalization cannot be applied to online learning tasks or to extremely large distributed models where the minibatches have to be small*\"."
   ]
  },
  {
   "cell_type": "code",
   "execution_count": 43,
   "metadata": {},
   "outputs": [],
   "source": [
    "class LayerNorm(nn.Module):\n",
    "    __constants__ = ['eps']\n",
    "    def __init__(self, eps=1e-5):\n",
    "        super().__init__()\n",
    "        self.eps = eps\n",
    "        self.mult= nn.Parameter(tensor(1.)) # learnable gamma and beta\n",
    "        self.add = nn.Parameter(tensor(0.))\n",
    "        \n",
    "    def forward(self,x):\n",
    "        m = x.mean((1,2,3), keepdim=True) # mean of each image\n",
    "        v = x.var((1,2,3), keepdim=True)\n",
    "        \n",
    "        x = (x-m) / ((v - self.eps).sqrt())\n",
    "        return x*self.mult + self.add"
   ]
  },
  {
   "cell_type": "code",
   "execution_count": 44,
   "metadata": {},
   "outputs": [],
   "source": [
    "def conv_ln(ni, nf, ks=3, stride=2, bn=True, **kwargs):\n",
    "    layers = [nn.Conv2d(ni, nf, ks, padding=ks//2, stride=stride, bias=True),\n",
    "              GeneralRelu(**kwargs)]\n",
    "    if bn: layers.append(LayerNorm())\n",
    "    return nn.Sequential(*layers)"
   ]
  },
  {
   "cell_type": "code",
   "execution_count": 45,
   "metadata": {},
   "outputs": [],
   "source": [
    "learn,run = get_learn_run(data, nfs, conv_ln, 0.8,  cbs=callbacks)"
   ]
  },
  {
   "cell_type": "code",
   "execution_count": 46,
   "metadata": {},
   "outputs": [
    {
     "name": "stdout",
     "output_type": "stream",
     "text": [
      "train: [nan, tensor(0.1232, device='cuda:0')]\n",
      "valid: [nan, tensor(0.0991, device='cuda:0')]\n"
     ]
    }
   ],
   "source": [
    "run.fit(1, learn)"
   ]
  },
  {
   "cell_type": "markdown",
   "metadata": {},
   "source": [
    "Not working..."
   ]
  },
  {
   "cell_type": "markdown",
   "metadata": {},
   "source": [
    "### Instance Norm"
   ]
  },
  {
   "cell_type": "markdown",
   "metadata": {},
   "source": [
    "From [the paper](https://arxiv.org/abs/1607.08022):"
   ]
  },
  {
   "cell_type": "markdown",
   "metadata": {},
   "source": [
    "The key difference between **contrast** and batch normalization is that the latter applies the normalization to a  whole batch of images instead for single ones:\n",
    "\n",
    "\\begin{equation}\\label{eq:bnorm}\n",
    "    y_{tijk} =  \\frac{x_{tijk} - \\mu_{i}}{\\sqrt{\\sigma_i^2 + \\epsilon}},\n",
    "    \\quad\n",
    "    \\mu_i = \\frac{1}{HWT}\\sum_{t=1}^T\\sum_{l=1}^W \\sum_{m=1}^H x_{tilm},\n",
    "    \\quad\n",
    "    \\sigma_i^2 = \\frac{1}{HWT}\\sum_{t=1}^T\\sum_{l=1}^W \\sum_{m=1}^H (x_{tilm} - mu_i)^2.\n",
    "\\end{equation}\n",
    "\n",
    "In order to combine the effects of instance-specific normalization and batch normalization, we propose to replace the latter by the *instance normalization* (also known as *contrast normalization*) layer:\n",
    "\n",
    "\\begin{equation}\\label{eq:inorm}\n",
    "    y_{tijk} =  \\frac{x_{tijk} - \\mu_{ti}}{\\sqrt{\\sigma_{ti}^2 + \\epsilon}},\n",
    "    \\quad\n",
    "    \\mu_{ti} = \\frac{1}{HW}\\sum_{l=1}^W \\sum_{m=1}^H x_{tilm},\n",
    "    \\quad\n",
    "    \\sigma_{ti}^2 = \\frac{1}{HW}\\sum_{l=1}^W \\sum_{m=1}^H (x_{tilm} - mu_{ti})^2.\n",
    "\\end{equation}"
   ]
  },
  {
   "cell_type": "code",
   "execution_count": 47,
   "metadata": {},
   "outputs": [],
   "source": [
    "class InstanceNorm(nn.Module):\n",
    "    __constants__ = ['eps']\n",
    "    def __init__(self, nf, eps=1e-0):\n",
    "        super().__init__()\n",
    "        self.eps = eps\n",
    "        self.mults = nn.Parameter(torch.ones (nf,1,1))\n",
    "        self.adds  = nn.Parameter(torch.zeros(nf,1,1))\n",
    "\n",
    "    def forward(self, x):\n",
    "        m = x.mean((2,3), keepdim=True)\n",
    "        v = x.var ((2,3), keepdim=True)\n",
    "        res = (x-m) / ((v+self.eps).sqrt())\n",
    "        return res*self.mults + self.adds"
   ]
  },
  {
   "cell_type": "code",
   "execution_count": 48,
   "metadata": {},
   "outputs": [],
   "source": [
    "def conv_in(ni, nf, ks=3, stride=2, bn=True, **kwargs):\n",
    "    layers = [nn.Conv2d(ni, nf, ks, padding=ks//2, stride=stride, bias=True),\n",
    "              GeneralRelu(**kwargs)]\n",
    "    if bn: layers.append(InstanceNorm(nf))\n",
    "    return nn.Sequential(*layers)"
   ]
  },
  {
   "cell_type": "code",
   "execution_count": 49,
   "metadata": {},
   "outputs": [],
   "source": [
    "learn,run = get_learn_run(data, nfs, conv_in, 0.8,  cbs=callbacks)"
   ]
  },
  {
   "cell_type": "code",
   "execution_count": 50,
   "metadata": {},
   "outputs": [
    {
     "name": "stdout",
     "output_type": "stream",
     "text": [
      "train: [nan, tensor(0.0986, device='cuda:0')]\n",
      "valid: [nan, tensor(0.0991, device='cuda:0')]\n"
     ]
    }
   ],
   "source": [
    "run.fit(1, learn)"
   ]
  },
  {
   "cell_type": "markdown",
   "metadata": {},
   "source": [
    "### Group Norm"
   ]
  },
  {
   "cell_type": "code",
   "execution_count": null,
   "metadata": {},
   "outputs": [],
   "source": []
  },
  {
   "cell_type": "code",
   "execution_count": null,
   "metadata": {},
   "outputs": [],
   "source": []
  },
  {
   "cell_type": "markdown",
   "metadata": {},
   "source": [
    "## Fix Small Batch Sizes"
   ]
  },
  {
   "cell_type": "markdown",
   "metadata": {},
   "source": [
    "### The problem with small Batches and BatchNorm"
   ]
  },
  {
   "cell_type": "markdown",
   "metadata": {},
   "source": [
    "Let's reload our DataBunch is a batch size of 2 and attempt to train. "
   ]
  },
  {
   "cell_type": "code",
   "execution_count": 51,
   "metadata": {},
   "outputs": [],
   "source": [
    "data = DataBunch(*get_dls(train_ds, valid_ds, 2), c)"
   ]
  },
  {
   "cell_type": "code",
   "execution_count": 52,
   "metadata": {},
   "outputs": [],
   "source": [
    "def conv_layer(ni, nf, ks=3, stride=2, bn=True, **kwargs):\n",
    "    # no bias if using bn\n",
    "    layers = [nn.Conv2d(ni, nf, kernel_size=ks, padding=ks//2, stride=stride, bias=not bn), GeneralRelu(**kwargs)]\n",
    "    if bn: layers.append(nn.BatchNorm2d(nf, eps=1e-05, momentum=0.1)) \n",
    "    return nn.Sequential(*layers)"
   ]
  },
  {
   "cell_type": "code",
   "execution_count": 53,
   "metadata": {},
   "outputs": [],
   "source": [
    "learn, run = get_learn_run(data, nfs, conv_layer, 0.3, cbs=callbacks)"
   ]
  },
  {
   "cell_type": "code",
   "execution_count": 54,
   "metadata": {},
   "outputs": [
    {
     "name": "stdout",
     "output_type": "stream",
     "text": [
      "train: [2.28125984375, tensor(0.1923, device='cuda:0')]\n",
      "valid: [36.268878125, tensor(0.2849, device='cuda:0')]\n",
      "train: [2.22784796875, tensor(0.2264, device='cuda:0')]\n",
      "valid: [1825470.0544, tensor(0.3190, device='cuda:0')]\n",
      "Wall time: 4min 53s\n"
     ]
    }
   ],
   "source": [
    "%time run.fit(2, learn)"
   ]
  },
  {
   "cell_type": "markdown",
   "metadata": {},
   "source": [
    "First thing to note is how long it takes, more than for 4 minutes for 2 epochs.\n",
    "\n",
    "Secondly, the loss gets blown out. "
   ]
  },
  {
   "cell_type": "markdown",
   "metadata": {},
   "source": [
    "    \"When we compute the statistics (mean and std) for a BatchNorm Layer on a small batch, it is possible that we get a standard deviation very close to 0. because there aren't many samples (the variance of one thing is 0. since it's equal to its mean).\""
   ]
  },
  {
   "cell_type": "markdown",
   "metadata": {},
   "source": [
    "\n",
    "Let's try to understand this in more detail by running a mini-batch through our first layer of our trained model to see what the output looks like after a manual BatchNorm:"
   ]
  },
  {
   "cell_type": "code",
   "execution_count": 55,
   "metadata": {},
   "outputs": [
    {
     "data": {
      "text/plain": [
       "torch.Size([2, 1, 28, 28])"
      ]
     },
     "execution_count": 55,
     "metadata": {},
     "output_type": "execute_result"
    }
   ],
   "source": [
    "xb, yb = next(iter(data.train_dl));\n",
    "xb = xb.view(2, 1, 28, 28).cuda(); xb.shape"
   ]
  },
  {
   "cell_type": "code",
   "execution_count": 56,
   "metadata": {},
   "outputs": [
    {
     "data": {
      "text/plain": [
       "torch.Size([2, 8, 14, 14])"
      ]
     },
     "execution_count": 56,
     "metadata": {},
     "output_type": "execute_result"
    }
   ],
   "source": [
    "out = F.relu(learn.model[0][0](xb)); out.shape"
   ]
  },
  {
   "cell_type": "code",
   "execution_count": 66,
   "metadata": {},
   "outputs": [],
   "source": [
    "out_mean = out.mean((0,2,3), keepdim=True)\n",
    "out_var = out.var((0,2,3), keepdim=True)"
   ]
  },
  {
   "cell_type": "markdown",
   "metadata": {},
   "source": [
    "Without adding the epsilon sqrt, the denominator, is zero in a few places. This means we're dividing by zero."
   ]
  },
  {
   "cell_type": "code",
   "execution_count": 67,
   "metadata": {},
   "outputs": [
    {
     "data": {
      "text/plain": [
       "tensor([[[[ 0.4190]],\n",
       "\n",
       "         [[ 0.0000]],\n",
       "\n",
       "         [[25.6605]],\n",
       "\n",
       "         [[ 2.8807]],\n",
       "\n",
       "         [[16.9091]],\n",
       "\n",
       "         [[ 0.0000]],\n",
       "\n",
       "         [[38.4943]],\n",
       "\n",
       "         [[60.0993]]]], device='cuda:0', grad_fn=<SqrtBackward>)"
      ]
     },
     "execution_count": 67,
     "metadata": {},
     "output_type": "execute_result"
    }
   ],
   "source": [
    "out_var.sqrt()"
   ]
  },
  {
   "cell_type": "markdown",
   "metadata": {},
   "source": [
    "The result, even with adding a small epsilon, is not good. \n",
    "\n",
    "Portions of the activations have gone to zero."
   ]
  },
  {
   "cell_type": "code",
   "execution_count": 62,
   "metadata": {},
   "outputs": [
    {
     "data": {
      "text/plain": [
       "tensor([[[[-0.1995, -0.1995, -0.1995,  ..., -0.1995, -0.1995, -0.1995],\n",
       "          [-0.1995, -0.1995, -0.1995,  ..., -0.1995, -0.1995, -0.1995],\n",
       "          [-0.1995, -0.1995, -0.1995,  ..., -0.1995, -0.1995, -0.1995],\n",
       "          ...,\n",
       "          [-0.1995, -0.1995, -0.1995,  ..., -0.1995, -0.1995, -0.1995],\n",
       "          [-0.1995, -0.1995, -0.1995,  ..., -0.1995, -0.1995, -0.1995],\n",
       "          [-0.1995, -0.1995, -0.1995,  ..., -0.1995, -0.1995, -0.1995]],\n",
       "\n",
       "         [[ 0.0000,  0.0000,  0.0000,  ...,  0.0000,  0.0000,  0.0000],\n",
       "          [ 0.0000,  0.0000,  0.0000,  ...,  0.0000,  0.0000,  0.0000],\n",
       "          [ 0.0000,  0.0000,  0.0000,  ...,  0.0000,  0.0000,  0.0000],\n",
       "          ...,\n",
       "          [ 0.0000,  0.0000,  0.0000,  ...,  0.0000,  0.0000,  0.0000],\n",
       "          [ 0.0000,  0.0000,  0.0000,  ...,  0.0000,  0.0000,  0.0000],\n",
       "          [ 0.0000,  0.0000,  0.0000,  ...,  0.0000,  0.0000,  0.0000]],\n",
       "\n",
       "         [[-0.6047, -0.6047, -0.6047,  ..., -0.6047, -0.6047, -0.6047],\n",
       "          [-0.6047, -0.6047, -0.6047,  ..., -0.6047, -0.6047, -0.6047],\n",
       "          [-0.6047, -0.6047, -0.6047,  ..., -0.6047, -0.6047, -0.6047],\n",
       "          ...,\n",
       "          [-0.6047, -0.6047, -0.6047,  ..., -0.6047, -0.6047, -0.6047],\n",
       "          [-0.6047, -0.6047, -0.6047,  ..., -0.6047, -0.6047, -0.6047],\n",
       "          [-0.6047, -0.6047, -0.6047,  ..., -0.6047, -0.6047, -0.6047]],\n",
       "\n",
       "         ...,\n",
       "\n",
       "         [[ 0.0000,  0.0000,  0.0000,  ...,  0.0000,  0.0000,  0.0000],\n",
       "          [ 0.0000,  0.0000,  0.0000,  ...,  0.0000,  0.0000,  0.0000],\n",
       "          [ 0.0000,  0.0000,  0.0000,  ...,  0.0000,  0.0000,  0.0000],\n",
       "          ...,\n",
       "          [ 0.0000,  0.0000,  0.0000,  ...,  0.0000,  0.0000,  0.0000],\n",
       "          [ 0.0000,  0.0000,  0.0000,  ...,  0.0000,  0.0000,  0.0000],\n",
       "          [ 0.0000,  0.0000,  0.0000,  ...,  0.0000,  0.0000,  0.0000]],\n",
       "\n",
       "         [[-0.6526, -0.6526, -0.6526,  ..., -0.6526, -0.6526, -0.6526],\n",
       "          [-0.6526, -0.6526, -0.6526,  ..., -0.6526, -0.6526, -0.6526],\n",
       "          [-0.6526, -0.6526, -0.6526,  ..., -0.6526, -0.6526, -0.6526],\n",
       "          ...,\n",
       "          [-0.6526, -0.6526, -0.6526,  ..., -0.6526, -0.6526, -0.6526],\n",
       "          [-0.6526, -0.6526, -0.6526,  ..., -0.6526, -0.6526, -0.6526],\n",
       "          [-0.6526, -0.6526, -0.6526,  ..., -0.6526, -0.6526, -0.6526]],\n",
       "\n",
       "         [[-0.6730, -0.6730, -0.6730,  ..., -0.6730, -0.6730, -0.6730],\n",
       "          [-0.6730, -0.6730, -0.6730,  ..., -0.6730, -0.6730, -0.6730],\n",
       "          [-0.6730, -0.6730, -0.6730,  ..., -0.6287, -0.6730, -0.6730],\n",
       "          ...,\n",
       "          [-0.6730, -0.6730, -0.6730,  ..., -0.6730, -0.6730, -0.6730],\n",
       "          [-0.6730, -0.6730, -0.6730,  ..., -0.6730, -0.6730, -0.6730],\n",
       "          [-0.6730, -0.6730, -0.6730,  ..., -0.6730, -0.6730, -0.6730]]],\n",
       "\n",
       "\n",
       "        [[[-0.1995, -0.1995, -0.1995,  ..., -0.1995, -0.1995, -0.1995],\n",
       "          [-0.1995, -0.1995, -0.1995,  ..., -0.1995, -0.1995, -0.1995],\n",
       "          [-0.1995, -0.1995, -0.1995,  ..., -0.1995, -0.1995, -0.1995],\n",
       "          ...,\n",
       "          [-0.1995, -0.1995, -0.1995,  ..., -0.1995, -0.1995, -0.1995],\n",
       "          [-0.1995, -0.1995, -0.1995,  ..., -0.1995, -0.1995, -0.1995],\n",
       "          [-0.1995, -0.1995, -0.1995,  ..., -0.1995, -0.1995, -0.1995]],\n",
       "\n",
       "         [[ 0.0000,  0.0000,  0.0000,  ...,  0.0000,  0.0000,  0.0000],\n",
       "          [ 0.0000,  0.0000,  0.0000,  ...,  0.0000,  0.0000,  0.0000],\n",
       "          [ 0.0000,  0.0000,  0.0000,  ...,  0.0000,  0.0000,  0.0000],\n",
       "          ...,\n",
       "          [ 0.0000,  0.0000,  0.0000,  ...,  0.0000,  0.0000,  0.0000],\n",
       "          [ 0.0000,  0.0000,  0.0000,  ...,  0.0000,  0.0000,  0.0000],\n",
       "          [ 0.0000,  0.0000,  0.0000,  ...,  0.0000,  0.0000,  0.0000]],\n",
       "\n",
       "         [[-0.6047, -0.6047, -0.6047,  ..., -0.6047, -0.6047, -0.6047],\n",
       "          [-0.6047, -0.6047, -0.6047,  ..., -0.6047, -0.6047, -0.6047],\n",
       "          [-0.6047, -0.6047, -0.6047,  ..., -0.6047, -0.6047, -0.6047],\n",
       "          ...,\n",
       "          [-0.6047, -0.6047, -0.6047,  ..., -0.6047, -0.6047, -0.6047],\n",
       "          [-0.6047, -0.6047, -0.6047,  ..., -0.6047, -0.6047, -0.6047],\n",
       "          [-0.6047, -0.6047, -0.6047,  ..., -0.6047, -0.6047, -0.6047]],\n",
       "\n",
       "         ...,\n",
       "\n",
       "         [[ 0.0000,  0.0000,  0.0000,  ...,  0.0000,  0.0000,  0.0000],\n",
       "          [ 0.0000,  0.0000,  0.0000,  ...,  0.0000,  0.0000,  0.0000],\n",
       "          [ 0.0000,  0.0000,  0.0000,  ...,  0.0000,  0.0000,  0.0000],\n",
       "          ...,\n",
       "          [ 0.0000,  0.0000,  0.0000,  ...,  0.0000,  0.0000,  0.0000],\n",
       "          [ 0.0000,  0.0000,  0.0000,  ...,  0.0000,  0.0000,  0.0000],\n",
       "          [ 0.0000,  0.0000,  0.0000,  ...,  0.0000,  0.0000,  0.0000]],\n",
       "\n",
       "         [[-0.6526, -0.6526, -0.6526,  ..., -0.6526, -0.6526, -0.6526],\n",
       "          [-0.6526, -0.6526, -0.6526,  ..., -0.6526, -0.6526, -0.6526],\n",
       "          [-0.6526, -0.6526, -0.6526,  ..., -0.6526, -0.6526, -0.6526],\n",
       "          ...,\n",
       "          [-0.6526, -0.6526, -0.6526,  ..., -0.6526, -0.6526, -0.6526],\n",
       "          [-0.6526, -0.6526, -0.6526,  ..., -0.6526, -0.6526, -0.6526],\n",
       "          [-0.6526, -0.6526, -0.6526,  ..., -0.6526, -0.6526, -0.6526]],\n",
       "\n",
       "         [[-0.6730, -0.6730, -0.6730,  ..., -0.6730, -0.6730, -0.6730],\n",
       "          [-0.6730, -0.6730, -0.6730,  ..., -0.6730, -0.6730, -0.6730],\n",
       "          [-0.6730, -0.6730, -0.6730,  ..., -0.6730, -0.6730, -0.6730],\n",
       "          ...,\n",
       "          [-0.6730, -0.6730, -0.6730,  ..., -0.6730, -0.6730, -0.6730],\n",
       "          [-0.6730, -0.6730, -0.6730,  ..., -0.6730, -0.6730, -0.6730],\n",
       "          [-0.6730, -0.6730, -0.6730,  ..., -0.6730, -0.6730, -0.6730]]]],\n",
       "       device='cuda:0', grad_fn=<DivBackward0>)"
      ]
     },
     "execution_count": 62,
     "metadata": {},
     "output_type": "execute_result"
    }
   ],
   "source": [
    "(out - out_mean).div(out_var.add_(1e-5).sqrt())"
   ]
  },
  {
   "cell_type": "code",
   "execution_count": null,
   "metadata": {},
   "outputs": [],
   "source": []
  },
  {
   "cell_type": "markdown",
   "metadata": {},
   "source": [
    "### Running BatchNorm"
   ]
  },
  {
   "cell_type": "markdown",
   "metadata": {},
   "source": [
    "Fastai proposed this solution to smooth the mean and variance to fix the small batch problem with BatchNorm. "
   ]
  },
  {
   "cell_type": "code",
   "execution_count": 77,
   "metadata": {},
   "outputs": [],
   "source": [
    "class RunningBatchNorm(nn.Module):\n",
    "    def __init__(self, nf, mom=0.1, eps=1e-5):\n",
    "        super().__init__()\n",
    "        self.mom,self.eps = mom,eps\n",
    "        self.mults = nn.Parameter(torch.ones (nf,1,1))\n",
    "        self.adds = nn.Parameter(torch.zeros(nf,1,1))\n",
    "        self.register_buffer('sums', torch.zeros(1,nf,1,1))\n",
    "        self.register_buffer('sqrs', torch.zeros(1,nf,1,1))\n",
    "        self.register_buffer('batch', tensor(0.))\n",
    "        self.register_buffer('count', tensor(0.))\n",
    "        self.register_buffer('step', tensor(0.))\n",
    "        self.register_buffer('dbias', tensor(0.))\n",
    "\n",
    "    def update_stats(self, x):\n",
    "        bs,nc,*_ = x.shape\n",
    "        self.sums.detach_()\n",
    "        self.sqrs.detach_()\n",
    "        dims = (0,2,3)\n",
    "        s = x.sum(dims, keepdim=True)\n",
    "        ss = (x*x).sum(dims, keepdim=True)\n",
    "        c = self.count.new_tensor(x.numel()/nc)\n",
    "        mom1 = 1 - (1-self.mom)/math.sqrt(bs-1)\n",
    "        self.mom1 = self.dbias.new_tensor(mom1)\n",
    "        self.sums.lerp_(s, self.mom1)\n",
    "        self.sqrs.lerp_(ss, self.mom1)\n",
    "        self.count.lerp_(c, self.mom1)\n",
    "        self.dbias = self.dbias*(1-self.mom1) + self.mom1\n",
    "        self.batch += bs\n",
    "        self.step += 1\n",
    "\n",
    "    def forward(self, x):\n",
    "        if self.training: self.update_stats(x)\n",
    "        sums = self.sums\n",
    "        sqrs = self.sqrs\n",
    "        c = self.count\n",
    "        if self.step<100:\n",
    "            sums = sums / self.dbias\n",
    "            sqrs = sqrs / self.dbias\n",
    "            c    = c    / self.dbias\n",
    "        means = sums/c\n",
    "        vars = (sqrs/c).sub_(means*means)\n",
    "        if bool(self.batch < 20): vars.clamp_min_(0.01)\n",
    "        x = (x-means).div_((vars.add_(self.eps)).sqrt())\n",
    "        return x.mul_(self.mults).add_(self.adds)"
   ]
  },
  {
   "cell_type": "code",
   "execution_count": 78,
   "metadata": {},
   "outputs": [],
   "source": [
    "def conv_rbn(ni, nf, ks=3, stride=2, bn=True, **kwargs):\n",
    "    layers = [nn.Conv2d(ni, nf, ks, padding=ks//2, stride=stride, bias=not bn),\n",
    "              GeneralRelu(**kwargs)]\n",
    "    if bn: layers.append(RunningBatchNorm(nf))\n",
    "    return nn.Sequential(*layers)"
   ]
  },
  {
   "cell_type": "code",
   "execution_count": 79,
   "metadata": {},
   "outputs": [],
   "source": [
    "learn,run = get_learn_run(data, nfs, conv_rbn, 0.4, cbs=callbacks)"
   ]
  },
  {
   "cell_type": "code",
   "execution_count": 80,
   "metadata": {},
   "outputs": [
    {
     "name": "stdout",
     "output_type": "stream",
     "text": [
      "train: [0.5010744140625, tensor(0.8656, device='cuda:0')]\n",
      "valid: [0.535328759765625, tensor(0.9537, device='cuda:0')]\n",
      "Wall time: 6min 40s\n"
     ]
    }
   ],
   "source": [
    "%time run.fit(1, learn)"
   ]
  },
  {
   "cell_type": "markdown",
   "metadata": {},
   "source": [
    "Running BatchNorm appears to fix the problem of small batches. "
   ]
  },
  {
   "cell_type": "markdown",
   "metadata": {},
   "source": [
    "### Best Single Epoch"
   ]
  },
  {
   "cell_type": "markdown",
   "metadata": {},
   "source": [
    "Now we'll use a somewhat larger batch size of 32 and see the best accuracy we can attain. "
   ]
  },
  {
   "cell_type": "code",
   "execution_count": 81,
   "metadata": {},
   "outputs": [],
   "source": [
    "data = DataBunch(*get_dls(train_ds, valid_ds, 32), c)"
   ]
  },
  {
   "cell_type": "code",
   "execution_count": 82,
   "metadata": {},
   "outputs": [],
   "source": [
    "learn,run = get_learn_run(data,nfs, conv_rbn, 0.9, cbs=callbacks\n",
    "                          +[partial(ParamScheduler,'lr', sched_lin(1., 0.2))])"
   ]
  },
  {
   "cell_type": "code",
   "execution_count": 83,
   "metadata": {},
   "outputs": [
    {
     "name": "stdout",
     "output_type": "stream",
     "text": [
      "train: [0.15532408203125, tensor(0.9522, device='cuda:0')]\n",
      "valid: [0.07329528198242187, tensor(0.9810, device='cuda:0')]\n",
      "Wall time: 25.4 s\n"
     ]
    }
   ],
   "source": [
    "%time run.fit(1, learn)"
   ]
  },
  {
   "cell_type": "markdown",
   "metadata": {},
   "source": [
    "Time to play around with our param scheduler and see if we can find a sweet spot..."
   ]
  },
  {
   "cell_type": "code",
   "execution_count": 90,
   "metadata": {},
   "outputs": [
    {
     "name": "stdout",
     "output_type": "stream",
     "text": [
      "train: [0.193604140625, tensor(0.9404, device='cuda:0')]\n",
      "valid: [0.08163214111328125, tensor(0.9775, device='cuda:0')]\n",
      "Wall time: 25.7 s\n"
     ]
    }
   ],
   "source": [
    "sched = combine_scheds([.2, .8], [sched_cos(.1, 0.9), sched_cos(.9, .7)])\n",
    "\n",
    "learn,run = get_learn_run(data,nfs, conv_rbn, 0.9, cbs=callbacks\n",
    "                          +[partial(ParamScheduler,'lr', sched)])\n",
    "\n",
    "%time run.fit(1, learn)"
   ]
  },
  {
   "cell_type": "code",
   "execution_count": 92,
   "metadata": {},
   "outputs": [
    {
     "name": "stdout",
     "output_type": "stream",
     "text": [
      "train: [0.1655712890625, tensor(0.9485, device='cuda:0')]\n",
      "valid: [0.08204594116210938, tensor(0.9795, device='cuda:0')]\n",
      "Wall time: 25.1 s\n"
     ]
    }
   ],
   "source": [
    "sched = combine_scheds([.5, .5], [sched_cos(.5, 1.), sched_cos(1., .09)])\n",
    "\n",
    "learn,run = get_learn_run(data,nfs, conv_rbn, 0.9, cbs=callbacks\n",
    "                          +[partial(ParamScheduler,'lr', sched)])\n",
    "\n",
    "%time run.fit(1, learn)"
   ]
  },
  {
   "cell_type": "code",
   "execution_count": 93,
   "metadata": {},
   "outputs": [
    {
     "name": "stdout",
     "output_type": "stream",
     "text": [
      "train: [0.17512861328125, tensor(0.9461, device='cuda:0')]\n",
      "valid: [0.07688037719726562, tensor(0.9785, device='cuda:0')]\n",
      "Wall time: 25.7 s\n"
     ]
    }
   ],
   "source": [
    "sched = combine_scheds([.7, .3], [sched_cos(.6, 1.1), sched_cos(1.1, .2)])\n",
    "\n",
    "learn,run = get_learn_run(data,nfs, conv_rbn, 0.9, cbs=callbacks\n",
    "                          +[partial(ParamScheduler,'lr', sched)])\n",
    "\n",
    "%time run.fit(1, learn)"
   ]
  },
  {
   "cell_type": "code",
   "execution_count": 94,
   "metadata": {},
   "outputs": [
    {
     "name": "stdout",
     "output_type": "stream",
     "text": [
      "train: [0.17544501953125, tensor(0.9465, device='cuda:0')]\n",
      "valid: [0.08113848266601563, tensor(0.9791, device='cuda:0')]\n",
      "Wall time: 25.7 s\n"
     ]
    }
   ],
   "source": [
    "sched = combine_scheds([.4, .6], [sched_cos(.2, 1.1), sched_cos(1.1, .2)])\n",
    "\n",
    "learn,run = get_learn_run(data,nfs, conv_rbn, 0.9, cbs=callbacks\n",
    "                          +[partial(ParamScheduler,'lr', sched)])\n",
    "\n",
    "%time run.fit(1, learn)"
   ]
  },
  {
   "cell_type": "code",
   "execution_count": 95,
   "metadata": {},
   "outputs": [
    {
     "name": "stdout",
     "output_type": "stream",
     "text": [
      "train: [0.1707545703125, tensor(0.9484, device='cuda:0')]\n",
      "valid: [0.061299725341796875, tensor(0.9820, device='cuda:0')]\n",
      "Wall time: 25.4 s\n"
     ]
    }
   ],
   "source": [
    "sched = combine_scheds([.5, .5], [sched_cos(.4, 1.2), sched_cos(1.2, .2)])\n",
    "\n",
    "learn,run = get_learn_run(data,nfs, conv_rbn, 0.9, cbs=callbacks\n",
    "                          +[partial(ParamScheduler,'lr', sched)])\n",
    "\n",
    "%time run.fit(1, learn)"
   ]
  },
  {
   "cell_type": "code",
   "execution_count": 100,
   "metadata": {},
   "outputs": [
    {
     "name": "stdout",
     "output_type": "stream",
     "text": [
      "train: [0.16798310546875, tensor(0.9478, device='cuda:0')]\n",
      "valid: [0.0546283203125, tensor(0.9845, device='cuda:0')]\n",
      "Wall time: 25.7 s\n"
     ]
    }
   ],
   "source": [
    "sched = combine_scheds([.5, .5], [sched_cos(.4, 1.3), sched_cos(.8, .5)])\n",
    "\n",
    "learn,run = get_learn_run(data,nfs, conv_rbn, 0.9, cbs=callbacks\n",
    "                          +[partial(ParamScheduler,'lr', sched)])\n",
    "\n",
    "%time run.fit(1, learn)"
   ]
  },
  {
   "cell_type": "code",
   "execution_count": 126,
   "metadata": {},
   "outputs": [
    {
     "name": "stdout",
     "output_type": "stream",
     "text": [
      "train: [0.1606407421875, tensor(0.9509, device='cuda:0')]\n",
      "valid: [0.06754797973632813, tensor(0.9804, device='cuda:0')]\n",
      "Wall time: 25.7 s\n"
     ]
    }
   ],
   "source": [
    "sched = combine_scheds([.5, .5], [sched_cos(.4, 1.3), sched_cos(.8, .5)])\n",
    "\n",
    "learn,run = get_learn_run(data,nfs, conv_rbn, 0.9, cbs=callbacks\n",
    "                          +[partial(ParamScheduler,'lr', sched)])\n",
    "\n",
    "%time run.fit(1, learn)"
   ]
  },
  {
   "cell_type": "code",
   "execution_count": 97,
   "metadata": {},
   "outputs": [
    {
     "data": {
      "application/javascript": [
       "{\n",
       "const ip = IPython.notebook\n",
       "if (ip) {\n",
       "    ip.save_notebook()\n",
       "    console.log('a')\n",
       "    const s = `!python notebook2script.py ${ip.notebook_name}`\n",
       "    if (ip.kernel) { ip.kernel.execute(s) }\n",
       "}\n",
       "}"
      ],
      "text/plain": [
       "<IPython.core.display.Javascript object>"
      ]
     },
     "metadata": {},
     "output_type": "display_data"
    }
   ],
   "source": [
    "nb_auto_export()"
   ]
  },
  {
   "cell_type": "code",
   "execution_count": null,
   "metadata": {},
   "outputs": [],
   "source": []
  }
 ],
 "metadata": {
  "kernelspec": {
   "display_name": "Python 3",
   "language": "python",
   "name": "python3"
  },
  "language_info": {
   "codemirror_mode": {
    "name": "ipython",
    "version": 3
   },
   "file_extension": ".py",
   "mimetype": "text/x-python",
   "name": "python",
   "nbconvert_exporter": "python",
   "pygments_lexer": "ipython3",
   "version": "3.8.2"
  },
  "toc": {
   "base_numbering": 1,
   "nav_menu": {},
   "number_sections": true,
   "sideBar": true,
   "skip_h1_title": false,
   "title_cell": "Table of Contents",
   "title_sidebar": "Contents",
   "toc_cell": false,
   "toc_position": {},
   "toc_section_display": true,
   "toc_window_display": false
  }
 },
 "nbformat": 4,
 "nbformat_minor": 4
}
