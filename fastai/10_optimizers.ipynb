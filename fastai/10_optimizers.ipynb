{
 "cells": [
  {
   "cell_type": "markdown",
   "metadata": {},
   "source": [
    "# Refining the Optimizer\n",
    "> All is one\n",
    "\n",
    "We're going to replace the Pytorch Optim with a custom optimizer class that uses `steppers`.\n",
    "\n",
    "This will allow us to make one Optimizer that can do any type of step we want to define. \n",
    "\n",
    "It can do a SGD step, a momentum step, a weight decay step, or an Adam step. "
   ]
  },
  {
   "cell_type": "code",
   "execution_count": 1,
   "metadata": {},
   "outputs": [],
   "source": [
    "%reload_ext autoreload\n",
    "%autoreload 2\n",
    "%matplotlib inline"
   ]
  },
  {
   "cell_type": "code",
   "execution_count": 2,
   "metadata": {},
   "outputs": [],
   "source": [
    "#export\n",
    "from exp.nb_09a import *"
   ]
  },
  {
   "cell_type": "markdown",
   "metadata": {},
   "source": [
    "### Imagenette Data"
   ]
  },
  {
   "cell_type": "code",
   "execution_count": 3,
   "metadata": {},
   "outputs": [],
   "source": [
    "path = datasets.untar_data(datasets.URLs.IMAGENETTE_160) # downloads and returns a path to folder\n",
    "tfms = [make_rgb, ResizeFixed(128), to_byte_tensor, to_float_tensor] # transforms to be applied to images\n",
    "\n",
    "bs = 128\n",
    "\n",
    "il = ImageList.from_files(path, tfms=tfms) # Imagelist from files\n",
    "sd = SplitData.split_by_func(il, partial(grandparent_splitter, valid_name=\"val\")) # Splitdata by function\n",
    "ll = label_by_func(sd, parent_labeler, proc_y=CategoryProcesser()) # label the data by parent folder\n",
    "data = ll.to_databunch(bs, c_in=3, c_out=10)"
   ]
  },
  {
   "cell_type": "code",
   "execution_count": 4,
   "metadata": {},
   "outputs": [],
   "source": [
    "nfs = [32,64,128,256]"
   ]
  },
  {
   "cell_type": "code",
   "execution_count": 5,
   "metadata": {},
   "outputs": [],
   "source": [
    "callbacks = [partial(AvgStatsCallback, accuracy),\n",
    "            CudaCallback, \n",
    "            partial(BatchTransformXCallback, norm_imagenette)]"
   ]
  },
  {
   "cell_type": "code",
   "execution_count": 6,
   "metadata": {},
   "outputs": [],
   "source": [
    "learn, run = get_learn_run(data, nfs,conv_layer, 0.3,  cbs=callbacks)"
   ]
  },
  {
   "cell_type": "markdown",
   "metadata": {},
   "source": [
    "### Baseline \n",
    "\n",
    "Single epoch validation accuracy with vanilla Stochastic Gradient Descent (SGD):"
   ]
  },
  {
   "cell_type": "code",
   "execution_count": 7,
   "metadata": {},
   "outputs": [
    {
     "name": "stdout",
     "output_type": "stream",
     "text": [
      "train: [1.7680847122848242, tensor(0.3930, device='cuda:0')]\n",
      "valid: [1.5259199591958599, tensor(0.4828, device='cuda:0')]\n"
     ]
    }
   ],
   "source": [
    "run.fit(1, learn)"
   ]
  },
  {
   "cell_type": "markdown",
   "metadata": {},
   "source": [
    "## Optimizer: Stateless"
   ]
  },
  {
   "cell_type": "markdown",
   "metadata": {},
   "source": [
    "The `param_groups` is a list of lists:\n",
    "\n",
    "``` python\n",
    "self.param_groups = [[pg1], [pg2], [pg3]]\n",
    "    \n",
    "```    \n",
    "Each `param_group` will have a corresponding hyperparameter dictionary in the list `self.hyper`:\n",
    "``` python\n",
    "self.hyper = [{'lr': 0.2,'wd':0.}, {'lr': 0.1,'wd':0.}, {'lr': 0.4,'wd':0.}]\n",
    "``` "
   ]
  },
  {
   "cell_type": "code",
   "execution_count": 8,
   "metadata": {},
   "outputs": [],
   "source": [
    "class Optimizer():\n",
    "    def __init__(self, params, steppers, **defaults):\n",
    "        self.param_groups = list(params)\n",
    "        \n",
    "        # ensure params is a list of lists\n",
    "        if not isinstance(self.param_groups[0], list): \n",
    "            self.param_groups = [self.param_groups]\n",
    "        \n",
    "        self.hypers = [{**defaults} for p in self.param_groups]\n",
    "        self.steppers = listify(steppers)\n",
    "        \n",
    "    def grad_params(self):\n",
    "        return [(p, hyper) for pg, hyper in zip(self.param_groups, self.hypers) for p in pg if p.grad is not None]\n",
    "    \n",
    "    def zero_grad(self):\n",
    "        for p,hyper in self.grad_params(): # iterates through \n",
    "            p.grad.detach_() # removes gradient computation history\n",
    "            p.grad.zero_() # zeros the grads for next batch\n",
    "            \n",
    "    def step(self):\n",
    "        for p, hyper in self.grad_params(): # does nothing without steppers\n",
    "            compose(p, self.steppers, **hyper)"
   ]
  },
  {
   "cell_type": "markdown",
   "metadata": {},
   "source": [
    "### Refactor Callbacks"
   ]
  },
  {
   "cell_type": "markdown",
   "metadata": {},
   "source": [
    "We'll need to refactor some of our callbacks to work with the new optimzer"
   ]
  },
  {
   "cell_type": "code",
   "execution_count": 11,
   "metadata": {},
   "outputs": [],
   "source": [
    "#export\n",
    "class AvgStats():\n",
    "    def __init__(self, metrics, in_train):\n",
    "        self.metrics = listify(metrics)\n",
    "        self.in_train = in_train\n",
    "\n",
    "    def reset(self):\n",
    "        self.tot_loss = 0.\n",
    "        self.count = 0\n",
    "        self.tot_mets = [0.]*len(self.metrics)\n",
    "\n",
    "    @property\n",
    "    def all_stats(self): \n",
    "        return [self.tot_loss.item()] + [o.item() for o in self.tot_mets]\n",
    "    \n",
    "    @property\n",
    "    def avg_stats(self): \n",
    "        return [o/self.count for o in self.all_stats]\n",
    "\n",
    "    def __repr__(self):\n",
    "        if not self.count: return \"Something went wrong: count is zero.\"\n",
    "        if self.in_train:\n",
    "            return f\"Train: {[round(o,4) for o in self.avg_stats]}\" \n",
    "        else:\n",
    "            return f\"Valid: {[round(o,4) for o in self.avg_stats]}\\n\"\n",
    "\n",
    "    def accumulate(self, run):\n",
    "        bn = run.xb.shape[0]\n",
    "        self.tot_loss += run.loss * bn\n",
    "        self.count += bn\n",
    "        for i, m in enumerate(self.metrics):\n",
    "            self.tot_mets[i] += m(run.pred, run.yb) * bn\n",
    "\n",
    "class AvgStatsCallback(Callback):\n",
    "    def __init__(self, metrics):\n",
    "        self.train_stats = AvgStats(metrics, True)\n",
    "        self.valid_stats = AvgStats(metrics, False)\n",
    "\n",
    "    def begin_epoch(self):\n",
    "        self.train_stats.reset()\n",
    "        self.valid_stats.reset()\n",
    "\n",
    "    def after_loss(self):\n",
    "        stats = self.train_stats if self.in_train else self.valid_stats\n",
    "        with torch.no_grad():\n",
    "            stats.accumulate(self.run)\n",
    "\n",
    "    def after_epoch(self):\n",
    "        print(self.train_stats)\n",
    "        print(self.valid_stats)"
   ]
  },
  {
   "cell_type": "markdown",
   "metadata": {},
   "source": [
    "`Recorder` will have to be re-written to work with this new optimizer. We had been pulling everything from Pytorch's `opt.param_groups`.\n",
    "\n",
    "Now to get the learning rate we access `self.opt.hypers`"
   ]
  },
  {
   "cell_type": "code",
   "execution_count": 12,
   "metadata": {},
   "outputs": [],
   "source": [
    "#export\n",
    "class Recorder(Callback):\n",
    "    def begin_fit(self):\n",
    "        self.losses = []\n",
    "        self.lrs = []\n",
    "\n",
    "    def after_batch(self):\n",
    "        if not self.in_train: return\n",
    "        self.lrs.append(self.opt.hypers[-1]['lr'])\n",
    "        self.losses.append(self.loss.detach().cpu())\n",
    "\n",
    "    def plot_loss(self): plt.plot(self.losses)\n",
    "    def plot_lr  (self): plt.plot(self.lrs)\n",
    "\n",
    "    def plot(self, skip_last=0):\n",
    "        losses = [o.item() for o in self.losses]\n",
    "        n = len(losses)-skip_last\n",
    "        plt.xscale('log')\n",
    "        plt.plot(self.lrs[:n], losses[:n])"
   ]
  },
  {
   "cell_type": "markdown",
   "metadata": {},
   "source": [
    "The `ParamScheduler` now needs to go through all of our `self.opt.hypers` and apply its scheduler functions accordingly. \n",
    "\n",
    "Remember each Param we schedule gets a different `ParamScheduler` callback - so each one is only accessing one `self.pname` in `self.opt.hypers` at a time. "
   ]
  },
  {
   "cell_type": "code",
   "execution_count": 13,
   "metadata": {},
   "outputs": [],
   "source": [
    "#export\n",
    "class ParamScheduler(Callback):\n",
    "    _order = 1\n",
    "    def __init__(self, pname, sched_funcs):\n",
    "        self.pname = pname\n",
    "        self.sched_funcs = listify(sched_funcs)\n",
    "\n",
    "    def begin_batch(self):\n",
    "        if not self.in_train: return # end if not in train mode\n",
    "        fs = self.sched_funcs # list of scheduler funcs\n",
    "        if len(fs)==1: # if only 1 scheduler multiple it and use it for each group\n",
    "            fs = fs*len(self.opt.param_groups)\n",
    "        pos = self.n_epochs/self.epochs # position in training\n",
    "        for scheduler, hyper in zip(fs, self.opt.hypers):\n",
    "            hyper[self.pname] = scheduler(pos) # change the pname according to the scheduler\n",
    "            "
   ]
  },
  {
   "cell_type": "markdown",
   "metadata": {},
   "source": [
    "Similarly, the `LR_Find` now needs to use `opt.param_groups`"
   ]
  },
  {
   "cell_type": "code",
   "execution_count": 14,
   "metadata": {},
   "outputs": [],
   "source": [
    "#export\n",
    "class LR_Find(Callback):\n",
    "    _order = 1\n",
    "\n",
    "    def __init__(self, max_iter=100, min_lr=1e-6, max_lr=10):\n",
    "        self.max_iter = max_iter\n",
    "        self.min_lr = min_lr\n",
    "        self.max_lr = max_lr\n",
    "        self.best_loss = 1e9\n",
    "\n",
    "    def begin_batch(self):\n",
    "        if not self.in_train: return\n",
    "        pos = self.n_iter/self.max_iter\n",
    "        lr = self.min_lr * (self.max_lr/self.min_lr) ** pos\n",
    "        for pg in self.opt.hypers: pg['lr'] = lr # change from opt.param_groups\n",
    " \n",
    "    def after_step(self):\n",
    "        if self.n_iter >= self.max_iter or self.loss > self.best_loss*10:\n",
    "            raise CancelTrainException\n",
    "        if self.loss < self.best_loss:\n",
    "            self.best_loss = self.loss"
   ]
  },
  {
   "cell_type": "markdown",
   "metadata": {},
   "source": [
    "## SGD\n",
    "\n",
    "__Step__: Add the negative learning rate to the gradient of the parameter."
   ]
  },
  {
   "cell_type": "code",
   "execution_count": 9,
   "metadata": {},
   "outputs": [],
   "source": [
    "#export\n",
    "def sgd_step(p, lr, **kwargs):\n",
    "    p.data.add_(-lr, p.grad.data)\n",
    "    return p"
   ]
  },
  {
   "cell_type": "code",
   "execution_count": 10,
   "metadata": {},
   "outputs": [],
   "source": [
    "opt_func = partial(Optimizer, steppers=[sgd_step])"
   ]
  },
  {
   "cell_type": "markdown",
   "metadata": {},
   "source": [
    "### SGD Test"
   ]
  },
  {
   "cell_type": "code",
   "execution_count": 26,
   "metadata": {},
   "outputs": [],
   "source": [
    "sched = combine_scheds([.3, .7], [sched_cos(.3, .6), sched_lin(.6, 0.2)])"
   ]
  },
  {
   "cell_type": "code",
   "execution_count": 27,
   "metadata": {},
   "outputs": [],
   "source": [
    "callbacks = [partial(AvgStatsCallback, accuracy),\n",
    "             CudaCallback, Recorder, \n",
    "             partial(ParamScheduler, 'lr', sched)]"
   ]
  },
  {
   "cell_type": "code",
   "execution_count": 28,
   "metadata": {},
   "outputs": [],
   "source": [
    "learn, run = get_learn_run(data, nfs, conv_layer, 0.3,  cbs=callbacks, opt_func=opt_func)"
   ]
  },
  {
   "cell_type": "code",
   "execution_count": 29,
   "metadata": {},
   "outputs": [
    {
     "name": "stdout",
     "output_type": "stream",
     "text": [
      "Train: [1.7935, 0.3809]\n",
      "Valid: [1.4745, 0.5045]\n",
      "\n"
     ]
    }
   ],
   "source": [
    "run.fit(1, learn)"
   ]
  },
  {
   "cell_type": "code",
   "execution_count": 30,
   "metadata": {},
   "outputs": [
    {
     "data": {
      "image/png": "[encoded data removed]",
      "text/plain": [
       "<Figure size 432x288 with 1 Axes>"
      ]
     },
     "metadata": {
      "needs_background": "light"
     },
     "output_type": "display_data"
    }
   ],
   "source": [
    "run.recorder.plot_loss()"
   ]
  },
  {
   "cell_type": "code",
   "execution_count": 31,
   "metadata": {},
   "outputs": [
    {
     "data": {
      "image/png": "[encoded data removed]",
      "text/plain": [
       "<Figure size 432x288 with 1 Axes>"
      ]
     },
     "metadata": {
      "needs_background": "light"
     },
     "output_type": "display_data"
    }
   ],
   "source": [
    "run.recorder.plot_lr()"
   ]
  },
  {
   "cell_type": "code",
   "execution_count": 22,
   "metadata": {},
   "outputs": [],
   "source": [
    "gp = learn.opt.grad_params()"
   ]
  },
  {
   "cell_type": "code",
   "execution_count": 25,
   "metadata": {},
   "outputs": [
    {
     "data": {
      "text/plain": [
       "torch.Size([16, 3, 3, 3])"
      ]
     },
     "execution_count": 25,
     "metadata": {},
     "output_type": "execute_result"
    }
   ],
   "source": [
    "gp[0][0].shape"
   ]
  },
  {
   "cell_type": "code",
   "execution_count": 24,
   "metadata": {},
   "outputs": [
    {
     "data": {
      "text/plain": [
       "{'lr': tensor(0.1135)}"
      ]
     },
     "execution_count": 24,
     "metadata": {},
     "output_type": "execute_result"
    }
   ],
   "source": [
    "gp[0][1]"
   ]
  },
  {
   "cell_type": "markdown",
   "metadata": {},
   "source": [
    "## Weight Decay"
   ]
  },
  {
   "cell_type": "markdown",
   "metadata": {},
   "source": [
    "### L2 Regularization"
   ]
  },
  {
   "cell_type": "markdown",
   "metadata": {},
   "source": [
    "L2 regularization is a penalty term added to the loss in order to minimize the weights. \n",
    "\n",
    "It's generally $\\lambda$ (the L2 parameter) multiplied by the sum of the weights squared:\n",
    "\n",
    "``` python\n",
    "loss_with_L2 = loss + L2 * (weights**2).sum()\n",
    "```\n",
    "\n",
    "It is computationally inefficient to square and sum the weights for each batch and then add them to the loss and compute the gradients. \n",
    "\n",
    "Instead we can take the gradient of the weights and multiple it by a *weight decay* parameter `wd` (`L2` above) and add that to the gradient. \n",
    "\n",
    "\n",
    "These two equations are equivalent:\n",
    "\n",
    "``` python\n",
    "loss_with_L2 = loss + (L2) * (weights**2).sum()\n",
    "```\n",
    "\n",
    "``` python\n",
    "weight.grad += wd * weight\n",
    "```\n",
    "\n",
    "Full update looks like this:\n",
    "\n",
    "``` python\n",
    "new_weight = weight - lr * (weight.grad + wd * weight)\n",
    "```\n",
    "\n",
    "\n",
    "We'll make a `l2_reg` stepper which uses the computationally more efficient way of adding the gradients times the `wd` parameter to the weight gradients:"
   ]
  },
  {
   "cell_type": "code",
   "execution_count": null,
   "metadata": {},
   "outputs": [],
   "source": [
    "#export\n",
    "def l2_reg(p, lr, wd, **kwargs):\n",
    "    p.grad.data.add_(wd, p.data) # scalar times parameter and then add to gradient \n",
    "    return p\n",
    "\n",
    "l2_reg._defaults = dict(wd=0.)"
   ]
  },
  {
   "cell_type": "markdown",
   "metadata": {},
   "source": [
    "If we factor this further we can see that \n",
    "\n",
    "``` python\n",
    "new_weight = weight - lr * weight.grad - lr * wd * weight\n",
    "```\n",
    "\n",
    "\n",
    "This technique is called \"weight decay\", as each weight is decayed by a factor `lr * wd`."
   ]
  },
  {
   "cell_type": "markdown",
   "metadata": {},
   "source": [
    "We will apply the `weight_decay` stepper before the `sgd_step`. \n",
    "\n",
    "Therefore, all the `weight_decay` stepper needs to do is return the parameters times "
   ]
  },
  {
   "cell_type": "code",
   "execution_count": null,
   "metadata": {},
   "outputs": [],
   "source": [
    "#export\n",
    "def weight_decay(p, lr, wd, **kwargs):\n",
    "    p.data.mul_(1 - lr*wd)\n",
    "    return p\n",
    "\n",
    "weight_decay._defaults = dict(wd=0.)"
   ]
  },
  {
   "cell_type": "markdown",
   "metadata": {},
   "source": [
    "This only works for standard SGD, as we have seen that with momentum, RMSProp and Adam, the update has some additional formulas around the gradient. \n",
    "\n",
    "In those cases, the formula that comes from L2 regularization:\n",
    "\n",
    "``` python\n",
    "weight.grad += wd * weight\n",
    "```\n",
    "\n",
    "is not equivalent to weight decay:\n",
    "\n",
    "``` python\n",
    "new_weight = weight - lr * weight.grad - lr * wd * weight\n",
    "```\n",
    "\n",
    "Most libraries use the first one, but as it was pointed out in [Decoupled Weight Regularization](https://arxiv.org/pdf/1711.05101.pdf) by Ilya Loshchilov and Frank Hutter, it is better to use the second one with the Adam optimizer, which is why fastai made it its default."
   ]
  },
  {
   "cell_type": "code",
   "execution_count": null,
   "metadata": {},
   "outputs": [],
   "source": []
  },
  {
   "cell_type": "code",
   "execution_count": null,
   "metadata": {},
   "outputs": [],
   "source": []
  },
  {
   "cell_type": "markdown",
   "metadata": {},
   "source": [
    "## Momentum"
   ]
  },
  {
   "cell_type": "code",
   "execution_count": null,
   "metadata": {},
   "outputs": [],
   "source": []
  },
  {
   "cell_type": "code",
   "execution_count": null,
   "metadata": {},
   "outputs": [],
   "source": []
  },
  {
   "cell_type": "markdown",
   "metadata": {},
   "source": [
    "## Adam"
   ]
  },
  {
   "cell_type": "code",
   "execution_count": null,
   "metadata": {},
   "outputs": [],
   "source": []
  },
  {
   "cell_type": "code",
   "execution_count": null,
   "metadata": {},
   "outputs": [],
   "source": []
  },
  {
   "cell_type": "markdown",
   "metadata": {},
   "source": [
    "## Lamb"
   ]
  },
  {
   "cell_type": "code",
   "execution_count": null,
   "metadata": {},
   "outputs": [],
   "source": []
  },
  {
   "cell_type": "code",
   "execution_count": null,
   "metadata": {},
   "outputs": [],
   "source": []
  },
  {
   "cell_type": "code",
   "execution_count": null,
   "metadata": {},
   "outputs": [],
   "source": []
  },
  {
   "cell_type": "code",
   "execution_count": null,
   "metadata": {},
   "outputs": [],
   "source": [
    "nb_auto_export()"
   ]
  }
 ],
 "metadata": {
  "kernelspec": {
   "display_name": "Python 3",
   "language": "python",
   "name": "python3"
  },
  "language_info": {
   "codemirror_mode": {
    "name": "ipython",
    "version": 3
   },
   "file_extension": ".py",
   "mimetype": "text/x-python",
   "name": "python",
   "nbconvert_exporter": "python",
   "pygments_lexer": "ipython3",
   "version": "3.8.2"
  },
  "toc": {
   "base_numbering": 1,
   "nav_menu": {},
   "number_sections": true,
   "sideBar": true,
   "skip_h1_title": false,
   "title_cell": "Table of Contents",
   "title_sidebar": "Contents",
   "toc_cell": false,
   "toc_position": {
    "height": "calc(100% - 180px)",
    "left": "10px",
    "top": "150px",
    "width": "273.067px"
   },
   "toc_section_display": true,
   "toc_window_display": true
  }
 },
 "nbformat": 4,
 "nbformat_minor": 4
}
