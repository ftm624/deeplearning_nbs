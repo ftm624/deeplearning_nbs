{
 "cells": [
  {
   "cell_type": "markdown",
   "metadata": {
    "colab_type": "text",
    "id": "FYOhDPTQWZWH"
   },
   "source": [
    "## Iterators\n",
    "\n",
    "**Iterator** - an object that can be iterated upon. An object which returns data, one elements at a time when **next()** is called on it\n",
    "\n",
    "**Iterable** - An object which will return an iterator when iter() is called on it"
   ]
  },
  {
   "cell_type": "code",
   "execution_count": 0,
   "metadata": {
    "colab": {},
    "colab_type": "code",
    "id": "5-tkm-OVWZWJ"
   },
   "outputs": [],
   "source": []
  },
  {
   "cell_type": "code",
   "execution_count": 0,
   "metadata": {
    "colab": {},
    "colab_type": "code",
    "id": "HlkgLYTnWZWM"
   },
   "outputs": [],
   "source": []
  },
  {
   "cell_type": "markdown",
   "metadata": {
    "colab_type": "text",
    "id": "nFXUIBMrWZWO"
   },
   "source": [
    "### Iterable - iter( )\n",
    "\n",
    "Use the iter() function to convert the string below "
   ]
  },
  {
   "cell_type": "code",
   "execution_count": 4,
   "metadata": {
    "colab": {
     "base_uri": "https://localhost:8080/",
     "height": 102
    },
    "colab_type": "code",
    "executionInfo": {
     "elapsed": 343,
     "status": "ok",
     "timestamp": 1541278454578,
     "user": {
      "displayName": "Jake Palmert",
      "photoUrl": "",
      "userId": "16086938303420074614"
     },
     "user_tz": 420
    },
    "id": "ncQXJeXoWZWP",
    "outputId": "cd09ff4c-64f4-4545-eb43-2105bb4d1ad4"
   },
   "outputs": [
    {
     "name": "stdout",
     "output_type": "stream",
     "text": [
      "h\n",
      "e\n",
      "l\n",
      "l\n",
      "o\n"
     ]
    }
   ],
   "source": [
    "s = 'hello' # 'hello' is an iterable but not an iterator\n",
    "\n",
    "x = iter(s) # returns an iterator\n",
    "\n",
    "\n",
    "for i in range(len(s)):\n",
    "    print(next(x))"
   ]
  },
  {
   "cell_type": "code",
   "execution_count": 0,
   "metadata": {
    "colab": {},
    "colab_type": "code",
    "id": "ZvS9j6KjWZWR"
   },
   "outputs": [],
   "source": [
    "def my_for(iterable, func):\n",
    "    iterator = iter(iterable)\n",
    "    while True:\n",
    "        try:\n",
    "            i = next(iterator)\n",
    "        except StopIteration:\n",
    "            break\n",
    "        else:\n",
    "            func(i)\n",
    "        \n",
    "my_for([1,2,3,4,5,6,7], print)"
   ]
  },
  {
   "cell_type": "markdown",
   "metadata": {
    "colab_type": "text",
    "id": "LbNagKeoWZWS"
   },
   "source": [
    "### Custom Iterator"
   ]
  },
  {
   "cell_type": "code",
   "execution_count": 0,
   "metadata": {
    "colab": {},
    "colab_type": "code",
    "id": "bqc9c9e9WZWT"
   },
   "outputs": [],
   "source": [
    "class Counter:\n",
    "\n",
    "    def __init__(self, low, high):\n",
    "        self.current = low\n",
    "        self.high = high\n",
    "\n",
    "    def __iter__(self):\n",
    "        return self\n",
    "\n",
    "    def __next__(self):\n",
    "        if self.current < self.high:\n",
    "            num = self.current\n",
    "            self.current += 1\n",
    "            return num\n",
    "        raise StopIteration\n",
    "\n",
    "\n",
    "for x in Counter(0,10):\n",
    "    print(x)\n",
    "\n"
   ]
  },
  {
   "cell_type": "markdown",
   "metadata": {
    "colab_type": "text",
    "id": "j0Cg2l-lWZWV"
   },
   "source": [
    "## Generators\n",
    "\n",
    "- Every generator is an iterator but not every iterator is a generator\n",
    "- Can be made using generator expressions or generation functions (yield)\n",
    "- Easier than defining a class and making an iterator that way"
   ]
  },
  {
   "cell_type": "code",
   "execution_count": 0,
   "metadata": {
    "colab": {},
    "colab_type": "code",
    "id": "pJ-JD4KhWZWW"
   },
   "outputs": [],
   "source": [
    "def gen_squares(x):\n",
    "    \n",
    "    \"\"\"\n",
    "    Creates a generator that generates the squares of numbers up to some number N\n",
    "    \"\"\"\n",
    "    for i in range(x):\n",
    "        yield i**2\n",
    "        \n",
    "for x in gensquares(10):\n",
    "    print(x)"
   ]
  },
  {
   "cell_type": "code",
   "execution_count": 0,
   "metadata": {
    "colab": {},
    "colab_type": "code",
    "id": "A55DPdCaWZWY",
    "outputId": "829b5061-d617-457b-b3fe-421c77bcbc3e"
   },
   "outputs": [
    {
     "name": "stdout",
     "output_type": "stream",
     "text": [
      "1\n",
      "1\n",
      "2\n",
      "3\n",
      "5\n",
      "8\n",
      "13\n",
      "21\n",
      "34\n",
      "55\n"
     ]
    }
   ],
   "source": [
    "def gen_fibon(n):\n",
    "    '''\n",
    "    Generate a fibonnaci sequence up to n\n",
    "    '''\n",
    "    a = 1\n",
    "    b = 1\n",
    "    for i in range(n):\n",
    "        yield a\n",
    "        a,b = b,a+b\n",
    "        \n",
    "for num in gen_fibon(10):\n",
    "    print(num)"
   ]
  },
  {
   "cell_type": "code",
   "execution_count": 0,
   "metadata": {
    "colab": {},
    "colab_type": "code",
    "id": "M6QEkX2bWZWd",
    "outputId": "1f6150dd-afda-4bc3-9a52-968fc574138a"
   },
   "outputs": [
    {
     "name": "stdout",
     "output_type": "stream",
     "text": [
      "1\n",
      "1\n",
      "2\n",
      "3\n",
      "5\n",
      "8\n",
      "13\n",
      "21\n",
      "34\n",
      "55\n"
     ]
    }
   ],
   "source": [
    "def fib_gen(max):\n",
    "    x = 0\n",
    "    y = 1\n",
    "    count = 0\n",
    "    while count < max:\n",
    "        x , y = y, x+y\n",
    "        yield x\n",
    "        count+=1\n",
    "        \n",
    "        \n",
    "for n in fib_gen(10):\n",
    "    print(n)"
   ]
  },
  {
   "cell_type": "markdown",
   "metadata": {
    "colab_type": "text",
    "id": "cIkqpaAcWZWf"
   },
   "source": [
    "Create a generator that yields \"n\" random numbers between a low and high number (that are inputs). Note: Use the random library. For example:"
   ]
  },
  {
   "cell_type": "code",
   "execution_count": 0,
   "metadata": {
    "colab": {},
    "colab_type": "code",
    "id": "TqJkNWspWZWf"
   },
   "outputs": [],
   "source": [
    "from random import randint\n",
    "\n",
    "def rand_num(low,high,n):\n",
    "    for i in range(n):\n",
    "        yield random.randint(low,high) \n",
    "\n",
    "for num in rand_num(1,10,12):\n",
    "    print(num)"
   ]
  },
  {
   "cell_type": "code",
   "execution_count": 0,
   "metadata": {
    "colab": {},
    "colab_type": "code",
    "id": "av4cgyCpWZWi"
   },
   "outputs": [],
   "source": [
    "def count_up_to(max):\n",
    "    count = 1\n",
    "    while count <= max:\n",
    "        yield count # when it hits 'yield' it returns count until count_up_to is called again. \n",
    "        count +=1\n",
    "        \n",
    "counter = count_up_to(5) # assignment of generator object\n",
    "for x in range(5):\n",
    "    print(next(counter)) # next is called on generator object"
   ]
  },
  {
   "cell_type": "code",
   "execution_count": 0,
   "metadata": {
    "colab": {},
    "colab_type": "code",
    "id": "DILnZjnhWZWk"
   },
   "outputs": [],
   "source": [
    "def week():\n",
    "    days = ['Monday', 'Tuesday', 'Wednesday', 'Thursday', 'Friday','Saturday', 'Sunday']\n",
    "    for day in days:\n",
    "        yield day\n",
    "        \n",
    "\n",
    "days_in = week()\n",
    "next(days_in)"
   ]
  },
  {
   "cell_type": "code",
   "execution_count": 0,
   "metadata": {
    "colab": {},
    "colab_type": "code",
    "id": "2qGh1mmJWZWm"
   },
   "outputs": [],
   "source": [
    "def yes_or_no():\n",
    "    counter = 1\n",
    "    \n",
    "    while True:\n",
    "        if counter % 2 == 0:\n",
    "            yield 'no'\n",
    "            counter +=1\n",
    "        else:\n",
    "            yield 'yes'\n",
    "            counter +=1\n",
    "            \n",
    "\n",
    "yn = yes_or_no()\n",
    "next(yn)"
   ]
  },
  {
   "cell_type": "code",
   "execution_count": 0,
   "metadata": {
    "colab": {},
    "colab_type": "code",
    "id": "PxcJcYvRWZWp"
   },
   "outputs": [],
   "source": [
    "def yes_or_no():\n",
    "    answer = 'yes'\n",
    "    while True:\n",
    "        yield answer\n",
    "        answer = 'no' if answer == 'yes' else 'else'\n",
    "\n",
    "y = yes_or_no()\n",
    "next(y)"
   ]
  },
  {
   "cell_type": "code",
   "execution_count": 0,
   "metadata": {
    "colab": {},
    "colab_type": "code",
    "id": "ejO7IQ6uWZWs"
   },
   "outputs": [],
   "source": [
    "# Infinite Generator\n",
    "\n",
    "def current_beat():\n",
    "    nums = (1,2,3,4)\n",
    "    i = 0\n",
    "    while True:\n",
    "        if i >= len(nums): i = 0\n",
    "        yield nums[i]\n",
    "        i +=1"
   ]
  },
  {
   "cell_type": "code",
   "execution_count": 0,
   "metadata": {
    "colab": {},
    "colab_type": "code",
    "id": "iifDcZhvWZWw"
   },
   "outputs": [],
   "source": [
    "def make_song(count=99, beverage='soda'):\n",
    "    while True:\n",
    "        if count > 1:\n",
    "            yield '{left} bottles of {bev} on the wall.'.format(left=count, bev=beverage)\n",
    "            count -= 1\n",
    "        elif count == 1:\n",
    "            yield 'Only {left} bottle of {bev} left!'.format(left=count, bev=beverage)\n",
    "            count -=1\n",
    "        else:\n",
    "            print('No more {bev}!'.format(bev=beverage))\n",
    "            break\n",
    "            \n",
    "c = make_song(5, 'kombucha')\n",
    "next(c)\n",
    "next(c)"
   ]
  },
  {
   "cell_type": "code",
   "execution_count": 0,
   "metadata": {
    "colab": {},
    "colab_type": "code",
    "id": "gVOQKdBOWZWy"
   },
   "outputs": [],
   "source": [
    "def get_multiples(num=1, count=10):\n",
    "    next_num = num\n",
    "    while count > 0:\n",
    "        yield next_num\n",
    "        count -= 1\n",
    "        next_num += num\n",
    "        \n",
    "def get_multiples_mine(num=1, count=10):\n",
    "    x = 1\n",
    "    while x <= count:\n",
    "        yield num * x\n",
    "        x +=1"
   ]
  },
  {
   "cell_type": "code",
   "execution_count": 0,
   "metadata": {
    "colab": {},
    "colab_type": "code",
    "id": "c11k-FpEWZW0"
   },
   "outputs": [],
   "source": [
    "def get_unlimited_multiples(num=1):\n",
    "    next_num = num\n",
    "    while True:\n",
    "        yield next_num\n",
    "        next_num += num\n",
    "        \n",
    "def get_unlimited_multiples_mine(nums=1):\n",
    "    n = 1\n",
    "    while True:\n",
    "        yield n * nums\n",
    "        n += 1"
   ]
  },
  {
   "cell_type": "code",
   "execution_count": 0,
   "metadata": {
    "colab": {},
    "colab_type": "code",
    "id": "p6pIsWOVWZW1"
   },
   "outputs": [],
   "source": []
  },
  {
   "cell_type": "markdown",
   "metadata": {
    "colab_type": "text",
    "id": "FlLC3uEpWZW2"
   },
   "source": [
    "### Generator Comprehension"
   ]
  },
  {
   "cell_type": "code",
   "execution_count": 0,
   "metadata": {
    "colab": {},
    "colab_type": "code",
    "id": "KZEsxL6eWZW3",
    "outputId": "63fbfab4-04f3-4120-8d08-c513cde8bf97"
   },
   "outputs": [
    {
     "data": {
      "text/plain": [
       "45"
      ]
     },
     "execution_count": 22,
     "metadata": {
      "tags": []
     },
     "output_type": "execute_result"
    }
   ],
   "source": [
    "my_list = [1,2,3,4,5]\n",
    "\n",
    "sum(item for item in range(1,10))\n",
    "\n"
   ]
  },
  {
   "cell_type": "code",
   "execution_count": 0,
   "metadata": {
    "colab": {},
    "colab_type": "code",
    "id": "ZcVkmOAMWZW5"
   },
   "outputs": [],
   "source": [
    "gencomp = (item for item in range(1,10))"
   ]
  },
  {
   "cell_type": "code",
   "execution_count": 0,
   "metadata": {
    "colab": {},
    "colab_type": "code",
    "id": "UzwhirMMWZW7",
    "outputId": "bbc8627c-e6d3-4e8c-b651-7a7018462321"
   },
   "outputs": [
    {
     "name": "stdout",
     "output_type": "stream",
     "text": [
      "4999999950000000\n",
      "4999999950000000\n",
      "Generator time:  4.974910020828247\n",
      "List comp time:  9.919890880584717\n"
     ]
    }
   ],
   "source": [
    "import time\n",
    "\n",
    "gen_start_time = time.time()\n",
    "print(sum(n for n in range(100000000)))\n",
    "gen_time = time.time() - gen_start_time\n",
    "\n",
    "list_start_time = time.time()\n",
    "print(sum([n for n in range(100000000)]))\n",
    "list_time = time.time() - list_start_time\n",
    "\n",
    "print(\"Generator time: \", gen_time)\n",
    "print(\"List comp time: \", list_time)\n"
   ]
  },
  {
   "cell_type": "code",
   "execution_count": 0,
   "metadata": {
    "colab": {},
    "colab_type": "code",
    "id": "BiYwkA7uWZW-",
    "outputId": "2cb77f4f-20e4-494d-a3c2-c8b26e7af017"
   },
   "outputs": [
    {
     "data": {
      "text/plain": [
       "1519863255.165589"
      ]
     },
     "execution_count": 30,
     "metadata": {
      "tags": []
     },
     "output_type": "execute_result"
    }
   ],
   "source": []
  },
  {
   "cell_type": "code",
   "execution_count": 0,
   "metadata": {
    "colab": {},
    "colab_type": "code",
    "id": "zkqTDsuhWZXA"
   },
   "outputs": [],
   "source": []
  }
 ],
 "metadata": {
  "colab": {
   "name": "Iterators and Generators.ipynb",
   "provenance": [],
   "version": "0.3.2"
  },
  "kernelspec": {
   "display_name": "Python 3",
   "language": "python",
   "name": "python3"
  },
  "language_info": {
   "codemirror_mode": {
    "name": "ipython",
    "version": 3
   },
   "file_extension": ".py",
   "mimetype": "text/x-python",
   "name": "python",
   "nbconvert_exporter": "python",
   "pygments_lexer": "ipython3",
   "version": "3.8.2"
  },
  "toc": {
   "base_numbering": 1,
   "nav_menu": {},
   "number_sections": true,
   "sideBar": true,
   "skip_h1_title": false,
   "title_cell": "Table of Contents",
   "title_sidebar": "Contents",
   "toc_cell": false,
   "toc_position": {},
   "toc_section_display": true,
   "toc_window_display": false
  }
 },
 "nbformat": 4,
 "nbformat_minor": 1
}
